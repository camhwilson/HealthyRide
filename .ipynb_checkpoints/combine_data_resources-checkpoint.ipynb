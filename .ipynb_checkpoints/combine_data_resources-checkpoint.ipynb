{
 "cells": [
  {
   "cell_type": "code",
   "execution_count": 1,
   "id": "5101f441",
   "metadata": {},
   "outputs": [],
   "source": [
    "from bs4 import BeautifulSoup\n",
    "from urllib.request import Request, urlopen\n",
    "\n",
    "from urllib.request import urlopen\n",
    "import requests\n",
    "import pandas as pd\n",
    "from json import dumps\n",
    "\n",
    "from resource_consolidation import ResourceOperations"
   ]
  },
  {
   "cell_type": "code",
   "execution_count": 2,
   "id": "0aa5ca65",
   "metadata": {},
   "outputs": [],
   "source": [
    "url = 'https://data.wprdc.org/dataset/healthyride-trip-data'\n",
    "resource_extension = '/dataset/healthyride-trip-data/resource/'\n",
    "resource_calling_string = 'https://data.wprdc.org/api/3/action/datastore_search?resource_id='\n"
   ]
  },
  {
   "cell_type": "code",
   "execution_count": 3,
   "id": "17562957",
   "metadata": {},
   "outputs": [],
   "source": [
    "list_of_links = ResourceOperations.list_of_links(url)\n",
    "overall = ResourceOperations.extract_unique_path(list_of_links, resource_extension, resource_calling_string)"
   ]
  },
  {
   "cell_type": "code",
   "execution_count": 4,
   "id": "b89c3251",
   "metadata": {
    "scrolled": true
   },
   "outputs": [
    {
     "name": "stdout",
     "output_type": "stream",
     "text": [
      "working on: https://data.wprdc.org/api/3/action/datastore_search?resource_id=c2608a60-9282-4e3d-b45d-a0306b75a3c9\n",
      "of length: 11322\n",
      "working on: https://data.wprdc.org/api/3/action/datastore_search?resource_id=102b0be5-aa3f-48b5-9306-e628ae1ae44d\n",
      "of length: 7224\n",
      "working on: https://data.wprdc.org/api/3/action/datastore_search?resource_id=6ab85d5c-b7a1-41f2-a7a5-1eec8cea4d8c\n",
      "of length: 19855\n",
      "working on: https://data.wprdc.org/api/3/action/datastore_search?resource_id=f8e0d66b-3958-4c8c-97d0-4351b9dfb222\n",
      "of length: 5186\n",
      "working on: https://data.wprdc.org/api/3/action/datastore_search?resource_id=79fc7302-7991-4b5a-b27a-d7c4f21b5b8d\n",
      "of length: 12225\n",
      "working on: https://data.wprdc.org/api/3/action/datastore_search?resource_id=2c29e217-935d-4d66-909f-9f1b060ed36c\n",
      "of length: 24313\n",
      "working on: https://data.wprdc.org/api/3/action/datastore_search?resource_id=2617daa2-4f89-4e2c-9be9-98254f1d8352\n",
      "of length: 28841\n",
      "working on: https://data.wprdc.org/api/3/action/datastore_search?resource_id=fc3bf582-3ea1-497b-bb0e-8a92d985f28b\n",
      "of length: 11647\n",
      "working on: https://data.wprdc.org/api/3/action/datastore_search?resource_id=ebd54bd3-6e46-4941-af21-65bdc3fb4ced\n",
      "of length: 26370\n",
      "working on: https://data.wprdc.org/api/3/action/datastore_search?resource_id=e71c0d16-0109-4b50-9ea2-02d82180b7e7\n",
      "of length: 43616\n",
      "working on: https://data.wprdc.org/api/3/action/datastore_search?resource_id=92a1a819-2750-4625-88e3-48cf3dd87794\n",
      "of length: 9841\n",
      "working on: https://data.wprdc.org/api/3/action/datastore_search?resource_id=c85436af-ba38-4d91-967f-3e11e4d62a43\n",
      "of length: 500000\n",
      "working on: https://data.wprdc.org/api/3/action/datastore_search?resource_id=15ce5154-4807-4d29-baa1-b63bbb033b79\n",
      "of length: 9198\n",
      "working on: https://data.wprdc.org/api/3/action/datastore_search?resource_id=7f68c23c-7ba3-4e5c-862d-e0cdc7ec2b67\n",
      "of length: 38007\n",
      "working on: https://data.wprdc.org/api/3/action/datastore_search?resource_id=7c5a30a3-797d-4861-b979-6bb4298b7d0d\n",
      "of length: 27706\n",
      "working on: https://data.wprdc.org/api/3/action/datastore_search?resource_id=a077921d-ae97-48fd-a85d-b31395245ae1\n",
      "of length: 29811\n",
      "working on: https://data.wprdc.org/api/3/action/datastore_search?resource_id=fcf1fe7c-b59f-4873-8b66-3715191af75a\n",
      "of length: 8813\n",
      "working on: https://data.wprdc.org/api/3/action/datastore_search?resource_id=030d12a3-fda6-4f2c-a508-ff23a4ecf195\n",
      "of length: 26973\n",
      "working on: https://data.wprdc.org/api/3/action/datastore_search?resource_id=24c8a7c0-ea06-441e-b07f-950547194c1b\n",
      "of length: 33265\n",
      "working on: https://data.wprdc.org/api/3/action/datastore_search?resource_id=7aaac45e-bc45-4219-a856-4d26c1706fdb\n",
      "of length: 14619\n",
      "working on: https://data.wprdc.org/api/3/action/datastore_search?resource_id=d1c388f1-a7c1-4d28-910f-fffebdcd1689\n",
      "of length: 35815\n",
      "working on: https://data.wprdc.org/api/3/action/datastore_search?resource_id=45bd5889-8ea1-4e71-ba83-f8103725e5d8\n",
      "of length: 10448\n",
      "working on: https://data.wprdc.org/api/3/action/datastore_search?resource_id=fe985614-775c-42e3-9647-59099806329d\n",
      "of length: 10\n",
      "working on: https://data.wprdc.org/api/3/action/datastore_search?resource_id=7fe58023-39be-4fa5-a7b7-27d7b0e077a7\n",
      "of length: 15100\n",
      "working on: https://data.wprdc.org/api/3/action/datastore_search?resource_id=d46ce40f-d8d4-490d-9ab8-ba5bb91c2fbb\n",
      "of length: 17595\n",
      "working on: https://data.wprdc.org/api/3/action/datastore_search?resource_id=488309de-06de-4502-b4c5-f5dd75f6445e\n",
      "of length: 37785\n"
     ]
    }
   ],
   "source": [
    "json_list = ResourceOperations.combine_json(overall)\n",
    "jsonStr = dumps(json_list)"
   ]
  },
  {
   "cell_type": "code",
   "execution_count": 5,
   "id": "b3722e3f",
   "metadata": {},
   "outputs": [
    {
     "name": "stdout",
     "output_type": "stream",
     "text": [
      "      Trip id   Bikeid                                    To station name  \\\n",
      "0  24420718.0  70233.0                                 21st St & Penn Ave   \n",
      "1  24420723.0  70103.0                                 21st St & Penn Ave   \n",
      "2  24433623.0  70255.0                          Penn Ave & S Whitfield St   \n",
      "3  24420960.0  70197.0                       Ellsworth Ave & N Neville St   \n",
      "4  24421083.0  70372.0                            S 12th St & E Carson St   \n",
      "5  24421586.0  70126.0                              Ivy St & Walnut St      \n",
      "6  24423420.0  70059.0                Isabella St & Federal St (PNC Park)   \n",
      "7  24425934.0  70365.0  O'Hara St and University Place (Soldiers and S...   \n",
      "8  24428018.0  70317.0                              S 18th St & Sidney St   \n",
      "9  24428718.0  70262.0                           Liberty Ave & Stanwix St   \n",
      "\n",
      "     Usertype        Stoptime  \\\n",
      "0    Customer  10/1/2016 2:01   \n",
      "1  Subscriber  10/1/2016 2:00   \n",
      "2    Customer  10/1/2016 9:21   \n",
      "3    Customer  10/1/2016 3:06   \n",
      "4  Subscriber  10/1/2016 2:47   \n",
      "5    Customer  10/1/2016 3:17   \n",
      "6    Customer  10/1/2016 4:49   \n",
      "7  Subscriber  10/1/2016 6:12   \n",
      "8    Customer  10/1/2016 8:40   \n",
      "9    Customer  10/1/2016 7:28   \n",
      "\n",
      "                                   From station name       Starttime  \\\n",
      "0                            Butler St & Stanton Ave  10/1/2016 1:51   \n",
      "1                            Butler St & Stanton Ave  10/1/2016 1:51   \n",
      "2                          Penn Ave & S Whitfield St  10/1/2016 9:19   \n",
      "3  Schenley Dr at Schenley Plaza (Carnegie Librar...  10/1/2016 2:18   \n",
      "4                           Liberty Ave & Stanwix St  10/1/2016 2:28   \n",
      "5                           Fifth Ave & S Bouquet St  10/1/2016 3:05   \n",
      "6                                Third Ave & Wood St  10/1/2016 4:39   \n",
      "7                               Atwood St & Bates St  10/1/2016 6:05   \n",
      "8                              S 18th St & Sidney St  10/1/2016 7:02   \n",
      "9                                 21st St & Penn Ave  10/1/2016 7:20   \n",
      "\n",
      "   To station id  Tripduration  _id  From station id Column Description  \n",
      "0         1017.0         598.0    1           1018.0    NaN         NaN  \n",
      "1         1017.0         497.0    2           1018.0    NaN         NaN  \n",
      "2         1026.0          69.0   22           1026.0    NaN         NaN  \n",
      "3         1034.0        2887.0    3           1036.0    NaN         NaN  \n",
      "4         1049.0        1154.0    4           1000.0    NaN         NaN  \n",
      "5         1033.0         675.0    5           1041.0    NaN         NaN  \n",
      "6         1013.0         568.0    6           1002.0    NaN         NaN  \n",
      "7         1040.0         405.0    7           1039.0    NaN         NaN  \n",
      "8         1048.0        5840.0    8           1048.0    NaN         NaN  \n",
      "9         1000.0         463.0    9           1017.0    NaN         NaN  \n"
     ]
    }
   ],
   "source": [
    "df = pd.read_json(jsonStr)\n",
    "#double checking head of dataframe to see if it correctly combined\n",
    "print(df.head(n=10))"
   ]
  },
  {
   "cell_type": "code",
   "execution_count": 6,
   "id": "aa24f9b2",
   "metadata": {},
   "outputs": [],
   "source": [
    "#saving copy of dataframe in original state\n",
    "checkpoint_1_df = df.copy()"
   ]
  },
  {
   "cell_type": "code",
   "execution_count": null,
   "id": "ecde7b03",
   "metadata": {},
   "outputs": [],
   "source": []
  }
 ],
 "metadata": {
  "kernelspec": {
   "display_name": "Python 3",
   "language": "python",
   "name": "python3"
  },
  "language_info": {
   "codemirror_mode": {
    "name": "ipython",
    "version": 3
   },
   "file_extension": ".py",
   "mimetype": "text/x-python",
   "name": "python",
   "nbconvert_exporter": "python",
   "pygments_lexer": "ipython3",
   "version": "3.8.8"
  }
 },
 "nbformat": 4,
 "nbformat_minor": 5
}
