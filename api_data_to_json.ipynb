{
 "cells": [
  {
   "cell_type": "code",
   "execution_count": 1,
   "metadata": {},
   "outputs": [],
   "source": [
    "import sys  \n",
    "\n",
    "import pandas as pd\n",
    "from weekday_analytics.plotting_funcs import plot_all\n",
    "\n",
    "from weekday_analytics.weekday import group_weekdaydict_by_station\n",
    "from resource_consolidation import Resources\n",
    "from trip import Trip\n",
    "\n",
    "import json"
   ]
  },
  {
   "cell_type": "code",
   "execution_count": 2,
   "metadata": {},
   "outputs": [],
   "source": [
    "url = 'https://data.wprdc.org/dataset/healthyride-trip-data'\n",
    "resource_extension = '/dataset/healthyride-trip-data/resource/'\n",
    "resource_calling_string = 'https://data.wprdc.org/api/3/action/datastore_search?resource_id='\n"
   ]
  },
  {
   "cell_type": "code",
   "execution_count": 3,
   "metadata": {
    "scrolled": true
   },
   "outputs": [
    {
     "name": "stdout",
     "output_type": "stream",
     "text": [
      "working on: https://data.wprdc.org/api/3/action/datastore_search?resource_id=d46ce40f-d8d4-490d-9ab8-ba5bb91c2fbb\n",
      "of length: 17595\n",
      "correct length\n",
      "working on: https://data.wprdc.org/api/3/action/datastore_search?resource_id=45bd5889-8ea1-4e71-ba83-f8103725e5d8\n",
      "of length: 10448\n",
      "correct length\n",
      "working on: https://data.wprdc.org/api/3/action/datastore_search?resource_id=c2608a60-9282-4e3d-b45d-a0306b75a3c9\n",
      "of length: 11322\n",
      "correct length\n",
      "working on: https://data.wprdc.org/api/3/action/datastore_search?resource_id=fcf1fe7c-b59f-4873-8b66-3715191af75a\n",
      "of length: 8813\n",
      "correct length\n",
      "working on: https://data.wprdc.org/api/3/action/datastore_search?resource_id=ebd54bd3-6e46-4941-af21-65bdc3fb4ced\n",
      "of length: 26370\n",
      "correct length\n",
      "working on: https://data.wprdc.org/api/3/action/datastore_search?resource_id=fe985614-775c-42e3-9647-59099806329d\n",
      "of length: 10\n",
      "too short to add\n",
      "working on: https://data.wprdc.org/api/3/action/datastore_search?resource_id=2c29e217-935d-4d66-909f-9f1b060ed36c\n",
      "of length: 24313\n",
      "correct length\n",
      "working on: https://data.wprdc.org/api/3/action/datastore_search?resource_id=2617daa2-4f89-4e2c-9be9-98254f1d8352\n",
      "of length: 28841\n",
      "correct length\n",
      "working on: https://data.wprdc.org/api/3/action/datastore_search?resource_id=92a1a819-2750-4625-88e3-48cf3dd87794\n",
      "of length: 9841\n",
      "correct length\n",
      "working on: https://data.wprdc.org/api/3/action/datastore_search?resource_id=7fe58023-39be-4fa5-a7b7-27d7b0e077a7\n",
      "of length: 15100\n",
      "correct length\n",
      "working on: https://data.wprdc.org/api/3/action/datastore_search?resource_id=e71c0d16-0109-4b50-9ea2-02d82180b7e7\n",
      "of length: 43616\n",
      "correct length\n",
      "working on: https://data.wprdc.org/api/3/action/datastore_search?resource_id=f8e0d66b-3958-4c8c-97d0-4351b9dfb222\n",
      "of length: 5186\n",
      "correct length\n",
      "working on: https://data.wprdc.org/api/3/action/datastore_search?resource_id=a077921d-ae97-48fd-a85d-b31395245ae1\n",
      "of length: 29811\n",
      "correct length\n",
      "working on: https://data.wprdc.org/api/3/action/datastore_search?resource_id=488309de-06de-4502-b4c5-f5dd75f6445e\n",
      "of length: 37785\n",
      "correct length\n",
      "working on: https://data.wprdc.org/api/3/action/datastore_search?resource_id=030d12a3-fda6-4f2c-a508-ff23a4ecf195\n",
      "of length: 26973\n",
      "correct length\n",
      "working on: https://data.wprdc.org/api/3/action/datastore_search?resource_id=7aaac45e-bc45-4219-a856-4d26c1706fdb\n",
      "of length: 14619\n",
      "correct length\n",
      "working on: https://data.wprdc.org/api/3/action/datastore_search?resource_id=fc3bf582-3ea1-497b-bb0e-8a92d985f28b\n",
      "of length: 11647\n",
      "correct length\n",
      "working on: https://data.wprdc.org/api/3/action/datastore_search?resource_id=7c5a30a3-797d-4861-b979-6bb4298b7d0d\n",
      "of length: 27706\n",
      "correct length\n",
      "working on: https://data.wprdc.org/api/3/action/datastore_search?resource_id=79fc7302-7991-4b5a-b27a-d7c4f21b5b8d\n",
      "of length: 12225\n",
      "correct length\n",
      "working on: https://data.wprdc.org/api/3/action/datastore_search?resource_id=15ce5154-4807-4d29-baa1-b63bbb033b79\n",
      "of length: 9198\n",
      "correct length\n",
      "working on: https://data.wprdc.org/api/3/action/datastore_search?resource_id=6ab85d5c-b7a1-41f2-a7a5-1eec8cea4d8c\n",
      "of length: 19855\n",
      "correct length\n",
      "working on: https://data.wprdc.org/api/3/action/datastore_search?resource_id=102b0be5-aa3f-48b5-9306-e628ae1ae44d\n",
      "of length: 7224\n",
      "correct length\n",
      "working on: https://data.wprdc.org/api/3/action/datastore_search?resource_id=cdd5e7ec-1626-4a8d-b1f5-dd991236ad98\n",
      "of length: 16728\n",
      "correct length\n",
      "working on: https://data.wprdc.org/api/3/action/datastore_search?resource_id=24c8a7c0-ea06-441e-b07f-950547194c1b\n",
      "of length: 33265\n",
      "correct length\n",
      "working on: https://data.wprdc.org/api/3/action/datastore_search?resource_id=d1c388f1-a7c1-4d28-910f-fffebdcd1689\n",
      "of length: 35815\n",
      "correct length\n",
      "working on: https://data.wprdc.org/api/3/action/datastore_search?resource_id=7f68c23c-7ba3-4e5c-862d-e0cdc7ec2b67\n",
      "of length: 38007\n",
      "correct length\n",
      "working on: https://data.wprdc.org/api/3/action/datastore_search?resource_id=c85436af-ba38-4d91-967f-3e11e4d62a43\n",
      "of length: 500000\n",
      "correct length\n"
     ]
    }
   ],
   "source": [
    "#create empty container for data \n",
    "data_container = Resources(url, resource_extension, resource_calling_string)\n",
    "#create json string with data from API\n",
    "json_list = data_container.create_json()"
   ]
  },
  {
   "cell_type": "code",
   "execution_count": 4,
   "metadata": {},
   "outputs": [
    {
     "name": "stdout",
     "output_type": "stream",
     "text": [
      "{'Trip id': '107269366', 'Bikeid': '70529', 'To station name': 'S 18th St & Sidney St', 'Usertype': 'Subscriber', 'Stoptime': '10/1/2020 0:30', 'From station name': 'Atwood St & Bates St', 'Starttime': '10/1/2020 0:13', 'To station id': '1048', 'Tripduration': '1025', '_id': 1, 'From station id': '1039'}\n"
     ]
    }
   ],
   "source": [
    "print(json_list[0])\n",
    "\n"
   ]
  },
  {
   "cell_type": "code",
   "execution_count": 5,
   "metadata": {},
   "outputs": [],
   "source": [
    "with open('data.json', 'w') as f:\n",
    "    json.dump(json_list, f, indent=4)"
   ]
  }
 ],
 "metadata": {
  "interpreter": {
   "hash": "f2e137fe573639b4edcbf40e937bd4e38f7785140a9dcf8b9a5720cba8c6cfc6"
  },
  "kernelspec": {
   "display_name": "Python 3.8.8 64-bit ('base': conda)",
   "name": "python3"
  },
  "language_info": {
   "codemirror_mode": {
    "name": "ipython",
    "version": 3
   },
   "file_extension": ".py",
   "mimetype": "text/x-python",
   "name": "python",
   "nbconvert_exporter": "python",
   "pygments_lexer": "ipython3",
   "version": "3.8.8"
  }
 },
 "nbformat": 4,
 "nbformat_minor": 5
}
