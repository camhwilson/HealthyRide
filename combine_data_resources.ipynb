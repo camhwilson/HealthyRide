{
 "cells": [
  {
   "cell_type": "code",
   "execution_count": 1,
   "source": [
    "import pandas as pd\n",
    "from resource_consolidation import Resources, Trip, dayint_to_daystr"
   ],
   "outputs": [],
   "metadata": {}
  },
  {
   "cell_type": "code",
   "execution_count": 2,
   "source": [
    "url = 'https://data.wprdc.org/dataset/healthyride-trip-data'\n",
    "resource_extension = '/dataset/healthyride-trip-data/resource/'\n",
    "resource_calling_string = 'https://data.wprdc.org/api/3/action/datastore_search?resource_id='\n"
   ],
   "outputs": [],
   "metadata": {}
  },
  {
   "cell_type": "code",
   "execution_count": 3,
   "source": [
    "#create empty container for data \n",
    "data_container = Resources(url, resource_extension, resource_calling_string)\n",
    "#create json string with data from API\n",
    "json_list = data_container.create_json()"
   ],
   "outputs": [
    {
     "output_type": "stream",
     "name": "stdout",
     "text": [
      "working on: https://data.wprdc.org/api/3/action/datastore_search?resource_id=7fe58023-39be-4fa5-a7b7-27d7b0e077a7\n",
      "of length: 15100\n",
      "correct length\n",
      "working on: https://data.wprdc.org/api/3/action/datastore_search?resource_id=2c29e217-935d-4d66-909f-9f1b060ed36c\n",
      "of length: 24313\n",
      "correct length\n",
      "working on: https://data.wprdc.org/api/3/action/datastore_search?resource_id=102b0be5-aa3f-48b5-9306-e628ae1ae44d\n",
      "of length: 7224\n",
      "correct length\n",
      "working on: https://data.wprdc.org/api/3/action/datastore_search?resource_id=7aaac45e-bc45-4219-a856-4d26c1706fdb\n",
      "of length: 14619\n",
      "correct length\n",
      "working on: https://data.wprdc.org/api/3/action/datastore_search?resource_id=c2608a60-9282-4e3d-b45d-a0306b75a3c9\n",
      "of length: 11322\n",
      "correct length\n",
      "working on: https://data.wprdc.org/api/3/action/datastore_search?resource_id=7f68c23c-7ba3-4e5c-862d-e0cdc7ec2b67\n",
      "of length: 38007\n",
      "correct length\n",
      "working on: https://data.wprdc.org/api/3/action/datastore_search?resource_id=79fc7302-7991-4b5a-b27a-d7c4f21b5b8d\n",
      "of length: 12225\n",
      "correct length\n",
      "working on: https://data.wprdc.org/api/3/action/datastore_search?resource_id=d1c388f1-a7c1-4d28-910f-fffebdcd1689\n",
      "of length: 35815\n",
      "correct length\n",
      "working on: https://data.wprdc.org/api/3/action/datastore_search?resource_id=f8e0d66b-3958-4c8c-97d0-4351b9dfb222\n",
      "of length: 5186\n",
      "correct length\n",
      "working on: https://data.wprdc.org/api/3/action/datastore_search?resource_id=fe985614-775c-42e3-9647-59099806329d\n",
      "of length: 10\n",
      "too short to add\n",
      "working on: https://data.wprdc.org/api/3/action/datastore_search?resource_id=a077921d-ae97-48fd-a85d-b31395245ae1\n",
      "of length: 29811\n",
      "correct length\n",
      "working on: https://data.wprdc.org/api/3/action/datastore_search?resource_id=45bd5889-8ea1-4e71-ba83-f8103725e5d8\n",
      "of length: 10448\n",
      "correct length\n",
      "working on: https://data.wprdc.org/api/3/action/datastore_search?resource_id=d46ce40f-d8d4-490d-9ab8-ba5bb91c2fbb\n",
      "of length: 17595\n",
      "correct length\n",
      "working on: https://data.wprdc.org/api/3/action/datastore_search?resource_id=ebd54bd3-6e46-4941-af21-65bdc3fb4ced\n",
      "of length: 26370\n",
      "correct length\n",
      "working on: https://data.wprdc.org/api/3/action/datastore_search?resource_id=2617daa2-4f89-4e2c-9be9-98254f1d8352\n",
      "of length: 28841\n",
      "correct length\n",
      "working on: https://data.wprdc.org/api/3/action/datastore_search?resource_id=15ce5154-4807-4d29-baa1-b63bbb033b79\n",
      "of length: 9198\n",
      "correct length\n",
      "working on: https://data.wprdc.org/api/3/action/datastore_search?resource_id=6ab85d5c-b7a1-41f2-a7a5-1eec8cea4d8c\n",
      "of length: 19855\n",
      "correct length\n",
      "working on: https://data.wprdc.org/api/3/action/datastore_search?resource_id=24c8a7c0-ea06-441e-b07f-950547194c1b\n",
      "of length: 33265\n",
      "correct length\n",
      "working on: https://data.wprdc.org/api/3/action/datastore_search?resource_id=fc3bf582-3ea1-497b-bb0e-8a92d985f28b\n",
      "of length: 11647\n",
      "correct length\n",
      "working on: https://data.wprdc.org/api/3/action/datastore_search?resource_id=030d12a3-fda6-4f2c-a508-ff23a4ecf195\n",
      "of length: 26973\n",
      "correct length\n",
      "working on: https://data.wprdc.org/api/3/action/datastore_search?resource_id=92a1a819-2750-4625-88e3-48cf3dd87794\n",
      "of length: 9841\n",
      "correct length\n",
      "working on: https://data.wprdc.org/api/3/action/datastore_search?resource_id=488309de-06de-4502-b4c5-f5dd75f6445e\n",
      "of length: 37785\n",
      "correct length\n",
      "working on: https://data.wprdc.org/api/3/action/datastore_search?resource_id=7c5a30a3-797d-4861-b979-6bb4298b7d0d\n",
      "of length: 27706\n",
      "correct length\n",
      "working on: https://data.wprdc.org/api/3/action/datastore_search?resource_id=fcf1fe7c-b59f-4873-8b66-3715191af75a\n",
      "of length: 8813\n",
      "correct length\n",
      "working on: https://data.wprdc.org/api/3/action/datastore_search?resource_id=e71c0d16-0109-4b50-9ea2-02d82180b7e7\n",
      "of length: 43616\n",
      "correct length\n",
      "working on: https://data.wprdc.org/api/3/action/datastore_search?resource_id=c85436af-ba38-4d91-967f-3e11e4d62a43\n",
      "of length: 500000\n",
      "correct length\n"
     ]
    }
   ],
   "metadata": {
    "scrolled": true
   }
  },
  {
   "cell_type": "code",
   "execution_count": 4,
   "source": [
    "print(json_list[0])\n"
   ],
   "outputs": [
    {
     "output_type": "stream",
     "name": "stdout",
     "text": [
      "{'Trip id': '14321596', 'Bikeid': '70374', 'To station name': 'Boulevard of the Allies & Parkview Ave', 'Usertype': 'Subscriber', 'Stoptime': '10/1/2015 0:32', 'From station name': 'Fifth Ave & S Dithridge St', 'Starttime': '10/1/2015 0:22', 'To station id': '1038', 'Tripduration': '572', '_id': 1, 'From station id': '1035'}\n"
     ]
    }
   ],
   "metadata": {}
  },
  {
   "cell_type": "code",
   "execution_count": 5,
   "source": [
    "#convert list of dicts to list of objects called \"Trips\"\n",
    "Trip_list = []\n",
    "for dict in json_list:\n",
    "    li = list(dict.values())\n",
    "    Trip_list.append(Trip(*li))"
   ],
   "outputs": [],
   "metadata": {}
  },
  {
   "cell_type": "code",
   "execution_count": 6,
   "source": [
    "#test er out\n",
    "print(Trip_list[420])\n",
    "print(Trip_list[420].toname)\n",
    "print(Trip_list[420].starttime)\n",
    "print(Trip_list[420].weekday)"
   ],
   "outputs": [
    {
     "output_type": "stream",
     "name": "stdout",
     "text": [
      "<resource_consolidation.Trip object at 0x7fccd7340160>\n",
      "Fifth Ave & S Bouquet St\n",
      "10/2/2015 11:56\n",
      "4\n"
     ]
    }
   ],
   "metadata": {}
  },
  {
   "cell_type": "code",
   "execution_count": 7,
   "source": [
    "def sort_by_stations(station_ids, Trip_list):\n",
    "    master_to = []\n",
    "    master_from = []\n",
    "    for station in station_ids:\n",
    "        master_to += [i for i in Trip_list if i.toid == station]\n",
    "        master_from += [i for i in Trip_list if i.fromid == station]\n",
    "    return master_to, master_from\n",
    "\n",
    "\n",
    "\n",
    "pnc_station_ids = ['49941','49921', '1012']\n",
    "\n",
    "downtown_station_ids = ['1000', '49701', '1002', '1001', '49691', '49671', '1056', '1003', '49731', '1004', '1006', '49651', '1010']\n",
    "\n",
    "station_trip_list_to = sort_by_stations(downtown_station_ids, Trip_list)[0]\n",
    "station_trip_list_from = sort_by_stations(downtown_station_ids, Trip_list)[1]\n",
    "\n",
    "print(len(station_trip_list_to))\n",
    "print(len(station_trip_list_from))\n"
   ],
   "outputs": [
    {
     "output_type": "stream",
     "name": "stdout",
     "text": [
      "109895\n",
      "105817\n"
     ]
    }
   ],
   "metadata": {}
  },
  {
   "cell_type": "code",
   "execution_count": 8,
   "source": [
    "class Weekday:\n",
    "    def __init__(self, weekday, arrivals = [], departures = []):\n",
    "        self.weekday = weekday\n",
    "        self.arrivals = arrivals\n",
    "        self.departures = departures\n",
    "\n",
    "\n",
    "class Day:\n",
    "    #date is the day, arrivals is list of arrivals, departures is list of departures\n",
    "    def __init__ (self, date, arrivals = [], departures = []):\n",
    "        self.date = date\n",
    "        self.arrivals = arrivals\n",
    "        self.departures = departures"
   ],
   "outputs": [],
   "metadata": {}
  },
  {
   "cell_type": "code",
   "execution_count": 9,
   "source": [
    "def departure_params_todict(list_of_trip_objects):\n",
    "    daily_dict = {}\n",
    "    for trip in list_of_trip_objects:\n",
    "        this_day = trip.starttime.split(\" \")[0]\n",
    "        if this_day not in list(daily_dict.keys()):\n",
    "            daily_dict[this_day] = [trip.starttime.split(\" \")[1]]\n",
    "        else:\n",
    "            daily_dict[this_day].append(trip.starttime.split(\" \")[1])\n",
    "    return daily_dict\n",
    "\n",
    "def arrival_params_todict(list_of_trip_objects):\n",
    "    daily_dict = {}\n",
    "    for trip in list_of_trip_objects:\n",
    "        this_day = trip.stoptime.split(\" \")[0]\n",
    "        if this_day not in list(daily_dict.keys()):\n",
    "            daily_dict[this_day] = [trip.stoptime.split(\" \")[1]]\n",
    "        else:\n",
    "            daily_dict[this_day].append(trip.stoptime.split(\" \")[1])\n",
    "    return daily_dict\n"
   ],
   "outputs": [],
   "metadata": {}
  },
  {
   "cell_type": "code",
   "execution_count": 10,
   "source": [
    "def weekday_arrivals_todict(list_of_trip_objects):\n",
    "    weekday_dict = {}\n",
    "    for trip in list_of_trip_objects:\n",
    "        this_weekday = trip.weekday\n",
    "        if this_weekday not in list(weekday_dict.keys()):\n",
    "            weekday_dict[this_weekday] = [trip.starttime.split(\" \")[1]]\n",
    "        else:\n",
    "            weekday_dict[this_weekday].append(trip.starttime.split(\" \")[1])\n",
    "    return weekday_dict\n",
    "\n",
    "def weekday_departures_todict(list_of_trip_objects):\n",
    "    weekday_dict = {}\n",
    "    for trip in list_of_trip_objects:\n",
    "        this_weekday = trip.weekday\n",
    "        if this_weekday not in list(weekday_dict.keys()):\n",
    "            weekday_dict[this_weekday] = [trip.stoptime.split(\" \")[1]]\n",
    "        else:\n",
    "            weekday_dict[this_weekday].append(trip.stoptime.split(\" \")[1])\n",
    "    return weekday_dict\n",
    "\n"
   ],
   "outputs": [],
   "metadata": {}
  },
  {
   "cell_type": "code",
   "execution_count": 14,
   "source": [
    "#for use with weekday object\n",
    "to_dict = weekday_arrivals_todict(station_trip_list_to)\n",
    "from_dict = weekday_departures_todict(station_trip_list_from)"
   ],
   "outputs": [],
   "metadata": {}
  },
  {
   "cell_type": "code",
   "execution_count": 15,
   "source": [
    "print(to_dict.keys())"
   ],
   "outputs": [
    {
     "output_type": "stream",
     "name": "stdout",
     "text": [
      "dict_keys([3, 4, 5, 6, 0, 1, 2])\n"
     ]
    }
   ],
   "metadata": {}
  },
  {
   "cell_type": "code",
   "execution_count": 13,
   "source": [
    "#for use with Day object\n",
    "to_dict = arrival_params_todict(station_trip_list_to)\n",
    "from_dict = departure_params_todict(station_trip_list_from)"
   ],
   "outputs": [],
   "metadata": {}
  },
  {
   "cell_type": "code",
   "execution_count": 16,
   "source": [
    "to_dates = list(to_dict.keys())\n",
    "from_dates = list(from_dict.keys())\n",
    "\n",
    "unique_to_arrivals = [i for i in to_dates if i not in from_dates]\n",
    "unique_to_departures = [i for i in from_dates if i not in to_dates]\n",
    "\n",
    "shared_dates = [i for i in to_dates if i not in unique_to_arrivals]\n",
    "print(shared_dates)"
   ],
   "outputs": [
    {
     "output_type": "stream",
     "name": "stdout",
     "text": [
      "[3, 4, 5, 6, 0, 1, 2]\n"
     ]
    }
   ],
   "metadata": {}
  },
  {
   "cell_type": "code",
   "execution_count": 17,
   "source": [
    "#for use of day objects\n",
    "Day_object_list = []\n",
    "for i in shared_dates:\n",
    "    Day_object_list.append(Day(i, to_dict[i], from_dict[i]))"
   ],
   "outputs": [],
   "metadata": {}
  },
  {
   "cell_type": "code",
   "execution_count": 18,
   "source": [
    "#for use of weekday object list\n",
    "weekday_object_list = []\n",
    "\n",
    "for i in shared_dates:\n",
    "    weekday_object_list.append(Weekday(i, to_dict[i], from_dict[i]))\n"
   ],
   "outputs": [],
   "metadata": {}
  },
  {
   "cell_type": "code",
   "execution_count": 23,
   "source": [
    "#double check which object list you're using\n",
    "\n",
    "search_index = shared_dates.index(5)\n",
    "\n",
    "print(weekday_object_list[search_index].weekday)\n",
    "print(weekday_object_list[search_index].arrivals[:10])\n",
    "print(weekday_object_list[search_index].departures[:10])"
   ],
   "outputs": [
    {
     "output_type": "stream",
     "name": "stdout",
     "text": [
      "5\n",
      "['11:33', '20:29', '11:00', '11:04', '12:04', '12:06', '12:44', '14:44', '14:45', '15:05']\n",
      "['11:02', '10:10', '17:20', '13:03', '13:02', '11:48', '11:48', '16:34', '16:07', '16:09']\n"
     ]
    }
   ],
   "metadata": {}
  },
  {
   "cell_type": "code",
   "execution_count": 29,
   "source": [
    "import matplotlib.pylab as plt\n",
    "from collections import Counter\n",
    "\n",
    "def plot_hourly_volume(da, dd):\n",
    "    listsa = sorted(da.items()) # sorted by key, return a list of tuples\n",
    "    xa, ya = zip(*listsa) # unpack a list of pairs into two tuples\n",
    "\n",
    "    listsd = sorted(dd.items()) # sorted by key, return a list of tuples\n",
    "    xd, yd = zip(*listsd)\n",
    "    \n",
    "    plt.plot(xa, ya, \"g-\")\n",
    "    plt.plot(xd, yd, 'r-')\n",
    "\n",
    "    plt.show()\n",
    "\n",
    "def hourly_volume(li):\n",
    "    hourly_list = sorted([int(i.split(':')[0]) for i in li])\n",
    "    counted_vals = Counter(hourly_list)\n",
    "    return counted_vals\n",
    "\n",
    "\n",
    "def plot_days_of_wk(weekday_object_list):\n",
    "    weekday_object_list.sort(key=lambda x: x.weekday, reverse=True)\n",
    "    for i, val in enumerate(weekday_object_list):\n",
    "        arrivals_volume = hourly_volume(weekday_object_list[val.weekday].arrivals)\n",
    "        print(i)\n",
    "        departures_volume = hourly_volume(weekday_object_list[val.weekday].departures)\n",
    "        print(dayint_to_daystr(i))\n",
    "        plot_hourly_volume(arrivals_volume, departures_volume)"
   ],
   "outputs": [],
   "metadata": {}
  },
  {
   "cell_type": "code",
   "execution_count": 30,
   "source": [
    "plot_days_of_wk(weekday_object_list)\n",
    "\n",
    "\n"
   ],
   "outputs": [
    {
     "output_type": "stream",
     "name": "stdout",
     "text": [
      "<__main__.Weekday object at 0x7fccab9af610>\n"
     ]
    },
    {
     "output_type": "error",
     "ename": "KeyError",
     "evalue": "<__main__.Weekday object at 0x7fccab9af610>",
     "traceback": [
      "\u001b[0;31m---------------------------------------------------------------------------\u001b[0m",
      "\u001b[0;31mKeyError\u001b[0m                                  Traceback (most recent call last)",
      "\u001b[0;32m<ipython-input-30-37ab6be4c61d>\u001b[0m in \u001b[0;36m<module>\u001b[0;34m\u001b[0m\n\u001b[0;32m----> 1\u001b[0;31m \u001b[0mplot_days_of_wk\u001b[0m\u001b[0;34m(\u001b[0m\u001b[0mweekday_object_list\u001b[0m\u001b[0;34m)\u001b[0m\u001b[0;34m\u001b[0m\u001b[0;34m\u001b[0m\u001b[0m\n\u001b[0m\u001b[1;32m      2\u001b[0m \u001b[0;34m\u001b[0m\u001b[0m\n\u001b[1;32m      3\u001b[0m \u001b[0;34m\u001b[0m\u001b[0m\n",
      "\u001b[0;32m<ipython-input-29-e727f8fc09e8>\u001b[0m in \u001b[0;36mplot_days_of_wk\u001b[0;34m(weekday_object_list)\u001b[0m\n\u001b[1;32m     26\u001b[0m         \u001b[0mprint\u001b[0m\u001b[0;34m(\u001b[0m\u001b[0mi\u001b[0m\u001b[0;34m)\u001b[0m\u001b[0;34m\u001b[0m\u001b[0;34m\u001b[0m\u001b[0m\n\u001b[1;32m     27\u001b[0m         \u001b[0mdepartures_volume\u001b[0m \u001b[0;34m=\u001b[0m \u001b[0mhourly_volume\u001b[0m\u001b[0;34m(\u001b[0m\u001b[0mweekday_object_list\u001b[0m\u001b[0;34m[\u001b[0m\u001b[0mi\u001b[0m\u001b[0;34m.\u001b[0m\u001b[0mweekday\u001b[0m\u001b[0;34m]\u001b[0m\u001b[0;34m.\u001b[0m\u001b[0mdepartures\u001b[0m\u001b[0;34m)\u001b[0m\u001b[0;34m\u001b[0m\u001b[0;34m\u001b[0m\u001b[0m\n\u001b[0;32m---> 28\u001b[0;31m         \u001b[0mprint\u001b[0m\u001b[0;34m(\u001b[0m\u001b[0mdayint_to_daystr\u001b[0m\u001b[0;34m(\u001b[0m\u001b[0mi\u001b[0m\u001b[0;34m)\u001b[0m\u001b[0;34m)\u001b[0m\u001b[0;34m\u001b[0m\u001b[0;34m\u001b[0m\u001b[0m\n\u001b[0m\u001b[1;32m     29\u001b[0m         \u001b[0mplot_hourly_volume\u001b[0m\u001b[0;34m(\u001b[0m\u001b[0marrivals_volume\u001b[0m\u001b[0;34m,\u001b[0m \u001b[0mdepartures_volume\u001b[0m\u001b[0;34m)\u001b[0m\u001b[0;34m\u001b[0m\u001b[0;34m\u001b[0m\u001b[0m\n",
      "\u001b[0;32m~/Desktop/Programming/jupyter_tings/HealthyRide/HealthyRide/resource_consolidation.py\u001b[0m in \u001b[0;36mdayint_to_daystr\u001b[0;34m(day_of_week)\u001b[0m\n\u001b[1;32m     91\u001b[0m     week_dict =  { 0: 'Monday', 1: 'Tuesday', 2: 'Wednesday', \n\u001b[1;32m     92\u001b[0m         3: 'Thursday', 4: 'Friday', 5: 'Saturday', 6: 'Sunday' }\n\u001b[0;32m---> 93\u001b[0;31m     \u001b[0;32mreturn\u001b[0m \u001b[0mweek_dict\u001b[0m\u001b[0;34m[\u001b[0m\u001b[0mday_of_week\u001b[0m\u001b[0;34m]\u001b[0m\u001b[0;34m\u001b[0m\u001b[0;34m\u001b[0m\u001b[0m\n\u001b[0m\u001b[1;32m     94\u001b[0m \u001b[0;34m\u001b[0m\u001b[0m\n\u001b[1;32m     95\u001b[0m \u001b[0;34m\u001b[0m\u001b[0m\n",
      "\u001b[0;31mKeyError\u001b[0m: <__main__.Weekday object at 0x7fccab9af610>"
     ]
    }
   ],
   "metadata": {}
  },
  {
   "cell_type": "code",
   "execution_count": null,
   "source": [],
   "outputs": [],
   "metadata": {}
  },
  {
   "cell_type": "code",
   "execution_count": null,
   "source": [],
   "outputs": [],
   "metadata": {}
  },
  {
   "cell_type": "code",
   "execution_count": null,
   "source": [],
   "outputs": [],
   "metadata": {}
  },
  {
   "cell_type": "markdown",
   "source": [
    "Unused Functions Below"
   ],
   "metadata": {}
  },
  {
   "cell_type": "code",
   "execution_count": null,
   "source": [
    "#def daily_parameters (trip_list):\n",
    "#    daily_dict = {}\n",
    "#    previous_day = trip_list[0].starttime[:8]\n",
    "#    i = 0\n",
    "#    for trip in trip_list:\n",
    "#        this_day = trip.starttime.split(\" \")[0]\n",
    "#        if previous_day != trip.starttime[:8]:\n",
    "#            daily_dict[previous_day] = i\n",
    "#            i = 0\n",
    "#        else:\n",
    "#            i += 1\n",
    "#        previous_day = this_day\n",
    "#    return daily_dict"
   ],
   "outputs": [],
   "metadata": {}
  },
  {
   "cell_type": "code",
   "execution_count": null,
   "source": [
    "#create json string from json list\n",
    "#jsonStr = dumps(json_list)\n",
    "#create dataframe with data from json string\n",
    "#df = pd.read_json(jsonStr)\n",
    "#double checking head of dataframe to see if it correctly combined\n",
    "#print(df.head(n=10))"
   ],
   "outputs": [],
   "metadata": {}
  }
 ],
 "metadata": {
  "kernelspec": {
   "name": "python3",
   "display_name": "Python 3.8.8 64-bit ('base': conda)"
  },
  "language_info": {
   "codemirror_mode": {
    "name": "ipython",
    "version": 3
   },
   "file_extension": ".py",
   "mimetype": "text/x-python",
   "name": "python",
   "nbconvert_exporter": "python",
   "pygments_lexer": "ipython3",
   "version": "3.8.8"
  },
  "interpreter": {
   "hash": "a4aab969673adf21db0441d574ea3b97bef840fe2e2d7de64b14c408b24a9b14"
  }
 },
 "nbformat": 4,
 "nbformat_minor": 5
}