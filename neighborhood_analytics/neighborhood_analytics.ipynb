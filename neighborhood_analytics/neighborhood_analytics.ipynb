{
 "cells": [
  {
   "cell_type": "code",
   "execution_count": 1,
   "metadata": {},
   "outputs": [],
   "source": [
    "\n",
    "import sys  \n",
    "sys.path.insert(0, '/Users/cwilson/desktop/programming/jupyter_tings/healthyride/healthyride')\n",
    "\n",
    "from trip import Trip\n",
    "from neighborhood_analytics.neighborhood import Neighborhood\n",
    "\n",
    "import json\n"
   ]
  },
  {
   "cell_type": "code",
   "execution_count": 2,
   "metadata": {},
   "outputs": [],
   "source": [
    "with open('../data.json') as f:\n",
    "  json_list = json.load(f)\n",
    " "
   ]
  },
  {
   "cell_type": "code",
   "execution_count": 3,
   "metadata": {},
   "outputs": [
    {
     "name": "stdout",
     "output_type": "stream",
     "text": [
      "{'Trip id': '15964640', 'Bikeid': '70029', 'To station name': \"O'Hara St and University Place (Soldiers and Sailors Memorial)\", 'Usertype': 'Subscriber', 'Stoptime': '4/1/2016 0:27', 'From station name': 'Maryland Ave & Ellsworth Ave', 'Starttime': '4/1/2016 0:17', 'To station id': '1040', 'Tripduration': '630', '_id': 1, 'From station id': '1031'}\n"
     ]
    }
   ],
   "source": [
    "print(json_list[0])"
   ]
  },
  {
   "cell_type": "code",
   "execution_count": 4,
   "metadata": {},
   "outputs": [],
   "source": [
    "#convert list of dicts to list of objects called \"Trips\"\n",
    "Trip_list = []\n",
    "for dict in json_list:\n",
    "    li = list(dict.values())\n",
    "    Trip_list.append(Trip(*li))"
   ]
  },
  {
   "cell_type": "code",
   "execution_count": 5,
   "metadata": {},
   "outputs": [
    {
     "name": "stdout",
     "output_type": "stream",
     "text": [
      "Trip(tripid='16047764', bikeid='70252', toname='S 27th St & Sidney St. (Southside Works)', usertype='Customer', stoptime='4/3/2016 18:15', fromname='North Shore Trail & Fort Duquesne Bridge', starttime='4/3/2016 16:58', toid='1045', tripduration='4638', _id=417, fromid='1012')\n",
      "S 27th St & Sidney St. (Southside Works)\n",
      "4/3/2016 16:58\n",
      "6\n",
      "North Shore\n"
     ]
    }
   ],
   "source": [
    "#test er out\n",
    "print(Trip_list[420])\n",
    "print(Trip_list[420].toname)\n",
    "print(Trip_list[420].starttime)\n",
    "print(Trip_list[420].weekday)\n",
    "print(Trip_list[420].start_neighborhood)"
   ]
  },
  {
   "cell_type": "code",
   "execution_count": 6,
   "metadata": {},
   "outputs": [
    {
     "name": "stdout",
     "output_type": "stream",
     "text": [
      "1022303\n"
     ]
    }
   ],
   "source": [
    "print(len(Trip_list))"
   ]
  },
  {
   "cell_type": "code",
   "execution_count": 7,
   "metadata": {},
   "outputs": [
    {
     "name": "stdout",
     "output_type": "stream",
     "text": [
      "11\n"
     ]
    }
   ],
   "source": [
    "trip_tuple = Neighborhood.sort_direction_neighborhood_weekday_hour(Trip_list)\n",
    "\n",
    "arrivals_by_neighborhood = trip_tuple[0]\n",
    "departures_by_neighborhood = trip_tuple[1]\n"
   ]
  },
  {
   "cell_type": "code",
   "execution_count": 8,
   "metadata": {},
   "outputs": [
    {
     "name": "stdout",
     "output_type": "stream",
     "text": [
      "{'5': Counter({'Oakland': 35}), '2': Counter({'Oakland': 141}), '6': Counter({'Oakland': 42}), '7': Counter({'Oakland': 67}), '10': Counter({'Oakland': 348}), '11': Counter({'Oakland': 490}), '12': Counter({'Oakland': 646}), '13': Counter({'Oakland': 654}), '14': Counter({'Oakland': 840}), '15': Counter({'Oakland': 801}), '16': Counter({'Oakland': 790}), '18': Counter({'Oakland': 756}), '19': Counter({'Oakland': 622}), '20': Counter({'Oakland': 537}), '21': Counter({'Oakland': 374}), '1': Counter({'Oakland': 194}), '9': Counter({'Oakland': 251}), '17': Counter({'Oakland': 847}), '4': Counter({'Oakland': 23}), '8': Counter({'Oakland': 113}), '22': Counter({'Oakland': 247}), '23': Counter({'Oakland': 191}), '0': Counter({'Oakland': 197}), '3': Counter({'Oakland': 63})}\n"
     ]
    }
   ],
   "source": [
    "# print the 6th day of the week of arrivals by hour in oakland\n",
    "print(arrivals_by_neighborhood['Oakland'][6])"
   ]
  },
  {
   "cell_type": "code",
   "execution_count": 9,
   "metadata": {},
   "outputs": [
    {
     "name": "stdout",
     "output_type": "stream",
     "text": [
      "{'4': Counter({'Oakland': 33}), '2': Counter({'Oakland': 136}), '6': Counter({'Oakland': 43}), '7': Counter({'Oakland': 74}), '9': Counter({'Oakland': 242}), '10': Counter({'Oakland': 397}), '12': Counter({'Oakland': 674}), '13': Counter({'Oakland': 857}), '14': Counter({'Oakland': 892}), '15': Counter({'Oakland': 920}), '16': Counter({'Oakland': 888}), '17': Counter({'Oakland': 929}), '18': Counter({'Oakland': 721}), '19': Counter({'Oakland': 619}), '20': Counter({'Oakland': 525}), '21': Counter({'Oakland': 341}), '22': Counter({'Oakland': 225}), '8': Counter({'Oakland': 147}), '3': Counter({'Oakland': 104}), '11': Counter({'Oakland': 607}), '23': Counter({'Oakland': 206}), '0': Counter({'Oakland': 231}), '1': Counter({'Oakland': 191}), '5': Counter({'Oakland': 32})}\n"
     ]
    }
   ],
   "source": [
    "# print the 6th day of the week of departures by hour in oakland\n",
    "print(departures_by_neighborhood['Oakland'][6])"
   ]
  },
  {
   "cell_type": "code",
   "execution_count": 10,
   "metadata": {},
   "outputs": [],
   "source": [
    "#function that zips two dictionaries by identical key\n",
    "\n",
    "def combine_dicts(arrival_dict, departure_dict):\n",
    "    #order matters, arrivals are first index of tuple, departures follow\n",
    "    return_dict = {}\n",
    "    for key in arrival_dict.keys():\n",
    "        return_dict[key] = (arrival_dict[key], departure_dict[key])\n",
    "    return return_dict\n",
    "        "
   ]
  },
  {
   "cell_type": "code",
   "execution_count": 11,
   "metadata": {},
   "outputs": [],
   "source": [
    "tuple_dict = combine_dicts(arrivals_by_neighborhood, departures_by_neighborhood)"
   ]
  },
  {
   "cell_type": "code",
   "execution_count": 12,
   "metadata": {},
   "outputs": [],
   "source": [
    "oakland = tuple_dict['Downtown']"
   ]
  },
  {
   "cell_type": "code",
   "execution_count": 13,
   "metadata": {},
   "outputs": [],
   "source": [
    "from collections import OrderedDict\n",
    "\n",
    "def make_keys_int(d):\n",
    "    return_dict = {}\n",
    "    for key in d.keys():\n",
    "        return_dict[int(key)] = d[key]\n",
    "    return return_dict\n",
    "\n",
    "\n",
    "def order_nested_dict(nested_dict):\n",
    "    return_dict = {}\n",
    "\n",
    "    for key, val in OrderedDict(sorted(nested_dict.items())).items():\n",
    "        nested_dict = make_keys_int(val)\n",
    "\n",
    "        return_dict[key] = OrderedDict(sorted(nested_dict.items()))\n",
    "    return return_dict\n"
   ]
  },
  {
   "cell_type": "code",
   "execution_count": 14,
   "metadata": {},
   "outputs": [],
   "source": [
    "arrivals, departures = oakland\n",
    "\n",
    "ordered_arrivals = order_nested_dict(arrivals)\n",
    "ordered_departures = order_nested_dict(departures)"
   ]
  },
  {
   "cell_type": "code",
   "execution_count": 15,
   "metadata": {},
   "outputs": [
    {
     "name": "stdout",
     "output_type": "stream",
     "text": [
      "dict_keys([0, 1, 2, 3, 4, 5, 6])\n"
     ]
    }
   ],
   "source": [
    "print(ordered_arrivals.keys())"
   ]
  },
  {
   "cell_type": "code",
   "execution_count": 16,
   "metadata": {},
   "outputs": [
    {
     "name": "stdout",
     "output_type": "stream",
     "text": [
      "odict_keys([0, 1, 2, 3, 4, 5, 6, 7, 8, 9, 10, 11, 12, 13, 14, 15, 16, 17, 18, 19, 20, 21, 22, 23])\n"
     ]
    }
   ],
   "source": [
    "print(ordered_arrivals[0].keys())"
   ]
  },
  {
   "cell_type": "code",
   "execution_count": 17,
   "metadata": {},
   "outputs": [],
   "source": [
    "station_dict = {\n",
    "    'Downtown': ['1000', '49701', '1002', '1001', '49691', '49671', '1056', '1003', \n",
    "                                '49731', '1004', '1006', '49651', '1010'],\n",
    "    \n",
    "    'Strip District': ['1016', '1017', '49611', '1059', '1060'],\n",
    "\n",
    "    'East Liberty' : ['1026', '1027', '1029', '1024', '49391', '49371', '1064'],\n",
    "\n",
    "    'Lawrenceville' : ['1061', '49581', '1019', '1020', '49501', '49951', '49561', '1018'],\n",
    "\n",
    "    'North Shore' : ['49941', '49921', '1012', '1013'],\n",
    "\n",
    "    'Central Northside' : ['1014', '1015', '49881'],\n",
    "\n",
    "    'Southside Flats' : ['1074', '1049', '1048', '1047', '1046', '1045', '1084'],\n",
    "\n",
    "    'Oakland' : ['1038', '1044', '1039', '1091', '1093', '1041', '1095', '1036', '1037', '1099', \n",
    "                        '1040', '1097', '1035', '1094', '49271'],\n",
    "    \n",
    "    'Squirrel Hill' : ['49251', '49261', '1068', '1069', '1070'],\n",
    "    \n",
    "    'Shadyside': ['1034', '1033', '1032', '1031'] \n",
    "\n",
    "}"
   ]
  },
  {
   "cell_type": "code",
   "execution_count": 18,
   "metadata": {},
   "outputs": [],
   "source": [
    "station_list = list(station_dict.keys())\n",
    "station_list.append('Not a station in a defined neighborhood')"
   ]
  },
  {
   "cell_type": "code",
   "execution_count": 19,
   "metadata": {},
   "outputs": [],
   "source": [
    "arrival_daily_dict = {}\n",
    "for day, val in ordered_arrivals.items():\n",
    "    neighborhood_dict = {}\n",
    "    for key, val in val.items():       \n",
    "        for i in station_list:\n",
    "            if i not in neighborhood_dict.keys():\n",
    "                neighborhood_dict[i] = [val[i]]\n",
    "            else:\n",
    "                neighborhood_dict[i] += [val[i]]\n",
    "    arrival_daily_dict[day] = neighborhood_dict\n"
   ]
  },
  {
   "cell_type": "code",
   "execution_count": 20,
   "metadata": {},
   "outputs": [],
   "source": [
    "departure_daily_dict = {}\n",
    "for day, val in ordered_departures.items():\n",
    "    neighborhood_dict = {}\n",
    "    for key, val in val.items():       \n",
    "        for i in station_list:\n",
    "            if i not in neighborhood_dict.keys():\n",
    "                neighborhood_dict[i] = [val[i]]\n",
    "            else:\n",
    "                neighborhood_dict[i] += [val[i]]\n",
    "    departure_daily_dict[day] = neighborhood_dict"
   ]
  },
  {
   "cell_type": "code",
   "execution_count": 21,
   "metadata": {},
   "outputs": [
    {
     "name": "stdout",
     "output_type": "stream",
     "text": [
      "dict_keys([0, 1, 2, 3, 4, 5, 6])\n"
     ]
    }
   ],
   "source": [
    "print(departure_daily_dict.keys())"
   ]
  },
  {
   "cell_type": "code",
   "execution_count": 22,
   "metadata": {},
   "outputs": [
    {
     "name": "stdout",
     "output_type": "stream",
     "text": [
      "{'Downtown': [252, 230, 161, 50, 28, 12, 78, 204, 474, 863, 1291, 1549, 1576, 1568, 1545, 1481, 1377, 1287, 1129, 900, 719, 526, 396, 233], 'Strip District': [0, 0, 0, 0, 0, 0, 0, 0, 0, 0, 0, 0, 0, 0, 0, 0, 0, 0, 0, 0, 0, 0, 0, 0], 'East Liberty': [0, 0, 0, 0, 0, 0, 0, 0, 0, 0, 0, 0, 0, 0, 0, 0, 0, 0, 0, 0, 0, 0, 0, 0], 'Lawrenceville': [0, 0, 0, 0, 0, 0, 0, 0, 0, 0, 0, 0, 0, 0, 0, 0, 0, 0, 0, 0, 0, 0, 0, 0], 'North Shore': [0, 0, 0, 0, 0, 0, 0, 0, 0, 0, 0, 0, 0, 0, 0, 0, 0, 0, 0, 0, 0, 0, 0, 0], 'Central Northside': [0, 0, 0, 0, 0, 0, 0, 0, 0, 0, 0, 0, 0, 0, 0, 0, 0, 0, 0, 0, 0, 0, 0, 0], 'Southside Flats': [0, 0, 0, 0, 0, 0, 0, 0, 0, 0, 0, 0, 0, 0, 0, 0, 0, 0, 0, 0, 0, 0, 0, 0], 'Oakland': [0, 0, 0, 0, 0, 0, 0, 0, 0, 0, 0, 0, 0, 0, 0, 0, 0, 0, 0, 0, 0, 0, 0, 0], 'Squirrel Hill': [0, 0, 0, 0, 0, 0, 0, 0, 0, 0, 0, 0, 0, 0, 0, 0, 0, 0, 0, 0, 0, 0, 0, 0], 'Shadyside': [0, 0, 0, 0, 0, 0, 0, 0, 0, 0, 0, 0, 0, 0, 0, 0, 0, 0, 0, 0, 0, 0, 0, 0], 'Not a station in a defined neighborhood': [0, 0, 0, 0, 0, 0, 0, 0, 0, 0, 0, 0, 0, 0, 0, 0, 0, 0, 0, 0, 0, 0, 0, 0]}\n"
     ]
    }
   ],
   "source": [
    "print(departure_daily_dict[6])"
   ]
  },
  {
   "cell_type": "code",
   "execution_count": 23,
   "metadata": {},
   "outputs": [],
   "source": [
    "import matplotlib.pyplot as plt\n",
    "from weekday_analytics.weekday import dayint_to_daystr\n",
    "\n",
    "\n"
   ]
  },
  {
   "cell_type": "code",
   "execution_count": 24,
   "metadata": {},
   "outputs": [],
   "source": [
    "def plot_hours_of_day(ax, day_of_wk, daily_dict):\n",
    "    \n",
    "\n",
    "    x = list(range(0, 24))\n",
    "    \n",
    "    for key, val in daily_dict.items():\n",
    "        ax[day_of_wk].title.set_text((dayint_to_daystr(day_of_wk)))\n",
    "        \n",
    "        ax[day_of_wk].plot(x, val)\n",
    "        #ax.plot(x, val)"
   ]
  },
  {
   "cell_type": "code",
   "execution_count": 25,
   "metadata": {},
   "outputs": [
    {
     "data": {
      "image/png": "[encoded data removed]",
      "text/plain": [
       "<Figure size 1080x180 with 7 Axes>"
      ]
     },
     "metadata": {
      "needs_background": "light"
     },
     "output_type": "display_data"
    }
   ],
   "source": [
    "fig, axs = plt.subplots(1, 7, figsize=(15,2.5), sharey = True)\n",
    "#note that at some point here arrivals are flipped with departures\n",
    "for key, val in arrival_daily_dict.items():\n",
    "    plot_hours_of_day(axs, key, val)"
   ]
  },
  {
   "cell_type": "code",
   "execution_count": 26,
   "metadata": {},
   "outputs": [
    {
     "data": {
      "image/png": "[encoded data removed]",
      "text/plain": [
       "<Figure size 1080x180 with 7 Axes>"
      ]
     },
     "metadata": {
      "needs_background": "light"
     },
     "output_type": "display_data"
    }
   ],
   "source": [
    "fig, axs = plt.subplots(1, 7, figsize=(15,2.5), sharey = True)\n",
    "#note that at some point here arrivals are flipped with departures\n",
    "for key, val in departure_daily_dict.items():\n",
    "    plot_hours_of_day(axs, key, val)"
   ]
  },
  {
   "cell_type": "markdown",
   "metadata": {},
   "source": []
  },
  {
   "cell_type": "code",
   "execution_count": 27,
   "metadata": {},
   "outputs": [],
   "source": [
    "plt.show()"
   ]
  },
  {
   "cell_type": "code",
   "execution_count": 28,
   "metadata": {},
   "outputs": [],
   "source": [
    "\n",
    "\n",
    "def plot_neighborhood(neightborhood_tuple):\n",
    "    #plot just one neighborhood\n",
    "    arrivals, departures = neightborhood_tuple\n",
    "\n",
    "    ordered_arrivals = order_nested_dict(arrivals)\n",
    "    ordered_departures = order_nested_dict(departures)\n",
    "\n",
    "    for key, val in ordered_arrivals.items():\n",
    "        d\n",
    "\n",
    "\n",
    "\n",
    "    "
   ]
  },
  {
   "cell_type": "code",
   "execution_count": 29,
   "metadata": {},
   "outputs": [
    {
     "ename": "SyntaxError",
     "evalue": "invalid syntax (<ipython-input-29-f92c0c94650a>, line 1)",
     "output_type": "error",
     "traceback": [
      "\u001b[0;36m  File \u001b[0;32m\"<ipython-input-29-f92c0c94650a>\"\u001b[0;36m, line \u001b[0;32m1\u001b[0m\n\u001b[0;31m    def plot_\u001b[0m\n\u001b[0m             ^\u001b[0m\n\u001b[0;31mSyntaxError\u001b[0m\u001b[0;31m:\u001b[0m invalid syntax\n"
     ]
    }
   ],
   "source": [
    "def plot_"
   ]
  },
  {
   "cell_type": "code",
   "execution_count": null,
   "metadata": {},
   "outputs": [],
   "source": [
    "plot_neighborhood(oakland)"
   ]
  }
 ],
 "metadata": {
  "interpreter": {
   "hash": "f2e137fe573639b4edcbf40e937bd4e38f7785140a9dcf8b9a5720cba8c6cfc6"
  },
  "kernelspec": {
   "display_name": "Python 3.8.8 64-bit ('base': conda)",
   "name": "python3"
  },
  "language_info": {
   "codemirror_mode": {
    "name": "ipython",
    "version": 3
   },
   "file_extension": ".py",
   "mimetype": "text/x-python",
   "name": "python",
   "nbconvert_exporter": "python",
   "pygments_lexer": "ipython3",
   "version": "3.8.8"
  }
 },
 "nbformat": 4,
 "nbformat_minor": 5
}
