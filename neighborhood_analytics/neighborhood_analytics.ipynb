{
 "cells": [
  {
   "cell_type": "code",
   "execution_count": 1,
   "source": [
    "\n",
    "import sys  \n",
    "sys.path.insert(0, '/Users/cwilson/desktop/programming/jupyter_tings/healthyride/healthyride')\n",
    "\n",
    "from resource_consolidation import Resources\n",
    "from trip import Trip\n",
    "from neighborhood_analytics.neighborhood import Neighborhood\n"
   ],
   "outputs": [],
   "metadata": {}
  },
  {
   "cell_type": "code",
   "execution_count": 2,
   "source": [
    "url = 'https://data.wprdc.org/dataset/healthyride-trip-data'\n",
    "resource_extension = '/dataset/healthyride-trip-data/resource/'\n",
    "resource_calling_string = 'https://data.wprdc.org/api/3/action/datastore_search?resource_id='\n"
   ],
   "outputs": [],
   "metadata": {}
  },
  {
   "cell_type": "code",
   "execution_count": 3,
   "source": [
    "#create empty container for data \n",
    "data_container = Resources(url, resource_extension, resource_calling_string)\n",
    "#create json string with data from API\n",
    "json_list = data_container.create_json()"
   ],
   "outputs": [
    {
     "output_type": "stream",
     "name": "stdout",
     "text": [
      "working on: https://data.wprdc.org/api/3/action/datastore_search?resource_id=15ce5154-4807-4d29-baa1-b63bbb033b79\n",
      "of length: 9198\n",
      "correct length\n",
      "working on: https://data.wprdc.org/api/3/action/datastore_search?resource_id=488309de-06de-4502-b4c5-f5dd75f6445e\n",
      "of length: 37785\n",
      "correct length\n",
      "working on: https://data.wprdc.org/api/3/action/datastore_search?resource_id=7c5a30a3-797d-4861-b979-6bb4298b7d0d\n",
      "of length: 27706\n",
      "correct length\n",
      "working on: https://data.wprdc.org/api/3/action/datastore_search?resource_id=fcf1fe7c-b59f-4873-8b66-3715191af75a\n",
      "of length: 8813\n",
      "correct length\n",
      "working on: https://data.wprdc.org/api/3/action/datastore_search?resource_id=6ab85d5c-b7a1-41f2-a7a5-1eec8cea4d8c\n",
      "of length: 19855\n",
      "correct length\n",
      "working on: https://data.wprdc.org/api/3/action/datastore_search?resource_id=fc3bf582-3ea1-497b-bb0e-8a92d985f28b\n",
      "of length: 11647\n",
      "correct length\n",
      "working on: https://data.wprdc.org/api/3/action/datastore_search?resource_id=c2608a60-9282-4e3d-b45d-a0306b75a3c9\n",
      "of length: 11322\n",
      "correct length\n",
      "working on: https://data.wprdc.org/api/3/action/datastore_search?resource_id=7fe58023-39be-4fa5-a7b7-27d7b0e077a7\n",
      "of length: 15100\n",
      "correct length\n",
      "working on: https://data.wprdc.org/api/3/action/datastore_search?resource_id=45bd5889-8ea1-4e71-ba83-f8103725e5d8\n",
      "of length: 10448\n",
      "correct length\n",
      "working on: https://data.wprdc.org/api/3/action/datastore_search?resource_id=24c8a7c0-ea06-441e-b07f-950547194c1b\n",
      "of length: 33265\n",
      "correct length\n",
      "working on: https://data.wprdc.org/api/3/action/datastore_search?resource_id=ebd54bd3-6e46-4941-af21-65bdc3fb4ced\n",
      "of length: 26370\n",
      "correct length\n",
      "working on: https://data.wprdc.org/api/3/action/datastore_search?resource_id=f8e0d66b-3958-4c8c-97d0-4351b9dfb222\n",
      "of length: 5186\n",
      "correct length\n",
      "working on: https://data.wprdc.org/api/3/action/datastore_search?resource_id=030d12a3-fda6-4f2c-a508-ff23a4ecf195\n",
      "of length: 26973\n",
      "correct length\n",
      "working on: https://data.wprdc.org/api/3/action/datastore_search?resource_id=7aaac45e-bc45-4219-a856-4d26c1706fdb\n",
      "of length: 14619\n",
      "correct length\n",
      "working on: https://data.wprdc.org/api/3/action/datastore_search?resource_id=102b0be5-aa3f-48b5-9306-e628ae1ae44d\n",
      "of length: 7224\n",
      "correct length\n",
      "working on: https://data.wprdc.org/api/3/action/datastore_search?resource_id=7f68c23c-7ba3-4e5c-862d-e0cdc7ec2b67\n",
      "of length: 38007\n",
      "correct length\n",
      "working on: https://data.wprdc.org/api/3/action/datastore_search?resource_id=92a1a819-2750-4625-88e3-48cf3dd87794\n",
      "of length: 9841\n",
      "correct length\n",
      "working on: https://data.wprdc.org/api/3/action/datastore_search?resource_id=2617daa2-4f89-4e2c-9be9-98254f1d8352\n",
      "of length: 28841\n",
      "correct length\n",
      "working on: https://data.wprdc.org/api/3/action/datastore_search?resource_id=fe985614-775c-42e3-9647-59099806329d\n",
      "of length: 10\n",
      "too short to add\n",
      "working on: https://data.wprdc.org/api/3/action/datastore_search?resource_id=d46ce40f-d8d4-490d-9ab8-ba5bb91c2fbb\n",
      "of length: 17595\n",
      "correct length\n",
      "working on: https://data.wprdc.org/api/3/action/datastore_search?resource_id=d1c388f1-a7c1-4d28-910f-fffebdcd1689\n",
      "of length: 35815\n",
      "correct length\n",
      "working on: https://data.wprdc.org/api/3/action/datastore_search?resource_id=e71c0d16-0109-4b50-9ea2-02d82180b7e7\n",
      "of length: 43616\n",
      "correct length\n",
      "working on: https://data.wprdc.org/api/3/action/datastore_search?resource_id=79fc7302-7991-4b5a-b27a-d7c4f21b5b8d\n",
      "of length: 12225\n",
      "correct length\n",
      "working on: https://data.wprdc.org/api/3/action/datastore_search?resource_id=c85436af-ba38-4d91-967f-3e11e4d62a43\n",
      "of length: 500000\n",
      "correct length\n",
      "working on: https://data.wprdc.org/api/3/action/datastore_search?resource_id=2c29e217-935d-4d66-909f-9f1b060ed36c\n",
      "of length: 24313\n",
      "correct length\n",
      "working on: https://data.wprdc.org/api/3/action/datastore_search?resource_id=a077921d-ae97-48fd-a85d-b31395245ae1\n",
      "of length: 29811\n",
      "correct length\n"
     ]
    }
   ],
   "metadata": {
    "scrolled": true
   }
  },
  {
   "cell_type": "code",
   "execution_count": 18,
   "source": [
    "#print 420th trip in the list\n",
    "print(json_list[420])"
   ],
   "outputs": [
    {
     "output_type": "stream",
     "name": "stdout",
     "text": [
      "{'Trip id': '10700113', 'Bikeid': '70138', 'To station name': '42nd St & Butler St', 'Usertype': 'Customer', 'Stoptime': '5/31/2015 19:15', 'From station name': '42nd St & Butler St', 'Starttime': '5/31/2015 16:31', 'To station id': '1019', 'Tripduration': '9868', '_id': 421, 'From station id': '1019'}\n"
     ]
    }
   ],
   "metadata": {}
  },
  {
   "cell_type": "code",
   "execution_count": 5,
   "source": [
    "#convert list of dicts to list of objects called \"Trips\"\n",
    "Trip_list = []\n",
    "for dict in json_list:\n",
    "    li = list(dict.values())\n",
    "    Trip_list.append(Trip(*li))"
   ],
   "outputs": [],
   "metadata": {}
  },
  {
   "cell_type": "code",
   "execution_count": 6,
   "source": [
    "#test er out\n",
    "print(Trip_list[420])\n",
    "print(Trip_list[420].toname)\n",
    "print(Trip_list[420].starttime)\n",
    "print(Trip_list[420].weekday)\n",
    "print(Trip_list[420].start_neighborhood)"
   ],
   "outputs": [
    {
     "output_type": "stream",
     "name": "stdout",
     "text": [
      "Trip(tripid='10700113', bikeid='70138', toname='42nd St & Butler St', usertype='Customer', stoptime='5/31/2015 19:15', fromname='42nd St & Butler St', starttime='5/31/2015 16:31', toid='1019', tripduration='9868', _id=421, fromid='1019')\n",
      "42nd St & Butler St\n",
      "5/31/2015 16:31\n",
      "6\n",
      "Lawrenceville\n"
     ]
    }
   ],
   "metadata": {}
  },
  {
   "cell_type": "code",
   "execution_count": 7,
   "source": [
    "print(len(Trip_list))"
   ],
   "outputs": [
    {
     "output_type": "stream",
     "name": "stdout",
     "text": [
      "1005575\n"
     ]
    }
   ],
   "metadata": {}
  },
  {
   "cell_type": "code",
   "execution_count": 11,
   "source": [
    "trip_tuple = Neighborhood.sort_direction_neighborhood_weekday_hour(Trip_list)\n",
    "\n",
    "arrivals_by_neighborhood = trip_tuple[0]\n",
    "departures_by_neighborhood = trip_tuple[1]\n"
   ],
   "outputs": [],
   "metadata": {}
  },
  {
   "cell_type": "code",
   "execution_count": 16,
   "source": [
    "# print the 6th day of the week of arrivals by hour in oakland\n",
    "print(arrivals_by_neighborhood['Oakland'][6])"
   ],
   "outputs": [
    {
     "output_type": "stream",
     "name": "stdout",
     "text": [
      "{'9': Counter({'Oakland': 119, 'Not a station in a defined neighborhood': 31, 'Downtown': 24, 'Shadyside': 21, 'Southside Flats': 17, 'East Liberty': 7, 'North Shore': 6, 'Squirrel Hill': 2, 'Strip District': 2, 'Lawrenceville': 1}), '14': Counter({'Oakland': 503, 'Not a station in a defined neighborhood': 109, 'Southside Flats': 68, 'Shadyside': 62, 'Downtown': 58, 'East Liberty': 29, 'Squirrel Hill': 8, 'Lawrenceville': 7, 'Central Northside': 7, 'North Shore': 6, 'Strip District': 4}), '18': Counter({'Oakland': 417, 'Not a station in a defined neighborhood': 95, 'Shadyside': 43, 'Southside Flats': 38, 'East Liberty': 35, 'Downtown': 27, 'Squirrel Hill': 14, 'Lawrenceville': 6, 'Strip District': 4, 'North Shore': 3}), '11': Counter({'Oakland': 295, 'Not a station in a defined neighborhood': 85, 'Downtown': 57, 'Southside Flats': 43, 'Shadyside': 43, 'East Liberty': 17, 'Squirrel Hill': 12, 'Strip District': 11, 'Lawrenceville': 7, 'North Shore': 6, 'Central Northside': 1}), '12': Counter({'Oakland': 354, 'Not a station in a defined neighborhood': 94, 'Southside Flats': 56, 'Downtown': 54, 'Shadyside': 41, 'Strip District': 21, 'East Liberty': 15, 'Lawrenceville': 5, 'North Shore': 4, 'Squirrel Hill': 4, 'Central Northside': 3}), '13': Counter({'Oakland': 468, 'Not a station in a defined neighborhood': 124, 'Downtown': 64, 'Southside Flats': 50, 'Shadyside': 39, 'East Liberty': 32, 'Strip District': 18, 'Squirrel Hill': 9, 'Lawrenceville': 7, 'North Shore': 6, 'Central Northside': 2}), '15': Counter({'Oakland': 512, 'Not a station in a defined neighborhood': 120, 'Southside Flats': 74, 'Shadyside': 67, 'Downtown': 47, 'East Liberty': 32, 'Strip District': 18, 'Lawrenceville': 8, 'Squirrel Hill': 7, 'North Shore': 7, 'Central Northside': 4}), '16': Counter({'Oakland': 507, 'Not a station in a defined neighborhood': 122, 'Southside Flats': 69, 'Shadyside': 56, 'Downtown': 49, 'East Liberty': 30, 'Squirrel Hill': 14, 'Lawrenceville': 9, 'Strip District': 7, 'North Shore': 6, 'Central Northside': 2}), '17': Counter({'Oakland': 544, 'Not a station in a defined neighborhood': 131, 'Downtown': 56, 'Shadyside': 55, 'Southside Flats': 34, 'East Liberty': 34, 'Lawrenceville': 17, 'Squirrel Hill': 14, 'North Shore': 5, 'Central Northside': 4}), '19': Counter({'Oakland': 349, 'Not a station in a defined neighborhood': 82, 'Shadyside': 45, 'Downtown': 29, 'Southside Flats': 28, 'East Liberty': 25, 'Squirrel Hill': 15, 'Lawrenceville': 3, 'Strip District': 2, 'North Shore': 1}), '20': Counter({'Oakland': 342, 'Not a station in a defined neighborhood': 71, 'Shadyside': 32, 'East Liberty': 17, 'Southside Flats': 15, 'Squirrel Hill': 9, 'Downtown': 7, 'Lawrenceville': 2}), '21': Counter({'Oakland': 188, 'Not a station in a defined neighborhood': 54, 'Shadyside': 25, 'Southside Flats': 12, 'Downtown': 11, 'East Liberty': 10, 'Squirrel Hill': 10}), '1': Counter({'Oakland': 107, 'Not a station in a defined neighborhood': 30, 'Shadyside': 25, 'East Liberty': 8, 'Southside Flats': 6, 'Squirrel Hill': 1, 'Central Northside': 1}), '2': Counter({'Oakland': 55, 'Not a station in a defined neighborhood': 35, 'Shadyside': 14, 'Southside Flats': 7, 'Downtown': 6, 'East Liberty': 5}), '0': Counter({'Oakland': 134, 'Not a station in a defined neighborhood': 43, 'Southside Flats': 13, 'Shadyside': 10, 'East Liberty': 7, 'North Shore': 3, 'Squirrel Hill': 2, 'Downtown': 1}), '6': Counter({'Oakland': 25, 'Not a station in a defined neighborhood': 10, 'Downtown': 6}), '7': Counter({'Oakland': 25, 'Not a station in a defined neighborhood': 11, 'Shadyside': 10, 'Downtown': 10, 'East Liberty': 6, 'Southside Flats': 5, 'Strip District': 2, 'North Shore': 1, 'Squirrel Hill': 1}), '10': Counter({'Oakland': 192, 'Not a station in a defined neighborhood': 60, 'Southside Flats': 32, 'Shadyside': 31, 'Downtown': 24, 'East Liberty': 12, 'Squirrel Hill': 5, 'Strip District': 5, 'Lawrenceville': 4, 'North Shore': 3}), '8': Counter({'Oakland': 52, 'Downtown': 37, 'Southside Flats': 18, 'Not a station in a defined neighborhood': 14, 'Shadyside': 9, 'East Liberty': 6, 'Lawrenceville': 1, 'North Shore': 1}), '22': Counter({'Oakland': 123, 'Not a station in a defined neighborhood': 31, 'Shadyside': 16, 'Downtown': 7, 'East Liberty': 6, 'Southside Flats': 6, 'Squirrel Hill': 5, 'Lawrenceville': 1}), '23': Counter({'Oakland': 110, 'Not a station in a defined neighborhood': 36, 'Southside Flats': 21, 'Shadyside': 10, 'Downtown': 3, 'Squirrel Hill': 3, 'East Liberty': 1}), '3': Counter({'Oakland': 36, 'Not a station in a defined neighborhood': 29, 'East Liberty': 16, 'Shadyside': 14, 'Southside Flats': 2, 'Downtown': 1}), '5': Counter({'Not a station in a defined neighborhood': 10, 'Oakland': 9, 'Downtown': 8, 'Southside Flats': 2, 'North Shore': 1, 'Central Northside': 1, 'Lawrenceville': 1}), '4': Counter({'Oakland': 13, 'Not a station in a defined neighborhood': 10, 'Shadyside': 4, 'East Liberty': 4, 'Southside Flats': 1})}\n"
     ]
    }
   ],
   "metadata": {}
  },
  {
   "cell_type": "code",
   "execution_count": 17,
   "source": [
    "# print the 6th day of the week of departures by hour in oakland\n",
    "print(departures_by_neighborhood['Oakland'][6])"
   ],
   "outputs": [
    {
     "output_type": "stream",
     "name": "stdout",
     "text": [
      "{'9': Counter({'Oakland': 92, 'Not a station in a defined neighborhood': 59, 'Shadyside': 32, 'East Liberty': 23, 'Downtown': 12, 'Lawrenceville': 9, 'Southside Flats': 4, 'Squirrel Hill': 3, 'Strip District': 1}), '14': Counter({'Oakland': 466, 'Not a station in a defined neighborhood': 103, 'Shadyside': 80, 'Squirrel Hill': 37, 'Southside Flats': 32, 'Downtown': 31, 'East Liberty': 23, 'Lawrenceville': 12, 'Strip District': 11, 'North Shore': 5, 'Central Northside': 1}), '18': Counter({'Oakland': 499, 'Not a station in a defined neighborhood': 94, 'Shadyside': 39, 'Downtown': 30, 'Squirrel Hill': 26, 'East Liberty': 14, 'Southside Flats': 13, 'Lawrenceville': 7, 'Strip District': 5, 'Central Northside': 1}), '8': Counter({'Oakland': 37, 'Not a station in a defined neighborhood': 32, 'Shadyside': 16, 'East Liberty': 11, 'Lawrenceville': 3, 'Southside Flats': 2, 'Downtown': 1, 'Squirrel Hill': 1}), '11': Counter({'Oakland': 252, 'Not a station in a defined neighborhood': 81, 'Shadyside': 52, 'East Liberty': 24, 'Southside Flats': 16, 'Downtown': 15, 'Squirrel Hill': 14, 'Strip District': 2, 'Lawrenceville': 2, 'North Shore': 2, 'Central Northside': 1}), '12': Counter({'Oakland': 356, 'Not a station in a defined neighborhood': 99, 'Shadyside': 63, 'Squirrel Hill': 27, 'Southside Flats': 24, 'Downtown': 20, 'East Liberty': 19, 'Lawrenceville': 5, 'North Shore': 5, 'Strip District': 3}), '15': Counter({'Oakland': 490, 'Not a station in a defined neighborhood': 107, 'Shadyside': 60, 'Squirrel Hill': 37, 'Southside Flats': 35, 'East Liberty': 31, 'Downtown': 11, 'Lawrenceville': 6, 'North Shore': 3, 'Strip District': 3, 'Central Northside': 1}), '19': Counter({'Oakland': 398, 'Not a station in a defined neighborhood': 77, 'Shadyside': 34, 'Squirrel Hill': 27, 'Downtown': 17, 'East Liberty': 13, 'Southside Flats': 9, 'Strip District': 3, 'North Shore': 3, 'Lawrenceville': 2}), '17': Counter({'Oakland': 558, 'Not a station in a defined neighborhood': 76, 'Shadyside': 49, 'Downtown': 41, 'Squirrel Hill': 29, 'East Liberty': 28, 'Southside Flats': 24, 'Strip District': 4, 'North Shore': 4, 'Lawrenceville': 2, 'Central Northside': 2}), '20': Counter({'Oakland': 351, 'Not a station in a defined neighborhood': 64, 'Downtown': 31, 'Shadyside': 25, 'East Liberty': 17, 'Squirrel Hill': 10, 'Southside Flats': 7, 'North Shore': 4, 'Lawrenceville': 2, 'Strip District': 1}), '21': Counter({'Oakland': 247, 'Not a station in a defined neighborhood': 43, 'Shadyside': 19, 'Downtown': 13, 'Squirrel Hill': 7, 'Southside Flats': 7, 'East Liberty': 7, 'Strip District': 3}), '16': Counter({'Oakland': 505, 'Not a station in a defined neighborhood': 83, 'Shadyside': 49, 'East Liberty': 28, 'Squirrel Hill': 26, 'Southside Flats': 22, 'Downtown': 21, 'Strip District': 16, 'North Shore': 6, 'Central Northside': 3, 'Lawrenceville': 3}), '2': Counter({'Oakland': 75, 'Not a station in a defined neighborhood': 22, 'Southside Flats': 20, 'Shadyside': 8, 'Lawrenceville': 3, 'East Liberty': 2, 'North Shore': 1, 'Squirrel Hill': 1}), '1': Counter({'Oakland': 119, 'Not a station in a defined neighborhood': 22, 'Southside Flats': 9, 'Shadyside': 7, 'East Liberty': 5, 'Squirrel Hill': 4, 'Downtown': 2, 'North Shore': 2, 'Lawrenceville': 1}), '5': Counter({'Oakland': 20, 'Not a station in a defined neighborhood': 5, 'Shadyside': 4, 'East Liberty': 3, 'Southside Flats': 1, 'Downtown': 1, 'Lawrenceville': 1}), '6': Counter({'Oakland': 16, 'Shadyside': 9, 'Not a station in a defined neighborhood': 9, 'East Liberty': 5, 'Lawrenceville': 1, 'Squirrel Hill': 1}), '10': Counter({'Oakland': 167, 'Not a station in a defined neighborhood': 83, 'Shadyside': 35, 'East Liberty': 19, 'Southside Flats': 10, 'Downtown': 6, 'Squirrel Hill': 3, 'Lawrenceville': 3, 'Strip District': 2, 'North Shore': 1}), '13': Counter({'Oakland': 356, 'Not a station in a defined neighborhood': 117, 'Shadyside': 51, 'Downtown': 26, 'East Liberty': 24, 'Southside Flats': 22, 'Squirrel Hill': 22, 'Strip District': 6, 'Lawrenceville': 3, 'Central Northside': 2}), '22': Counter({'Oakland': 160, 'Not a station in a defined neighborhood': 33, 'Shadyside': 11, 'Downtown': 8, 'East Liberty': 6, 'Squirrel Hill': 4, 'Southside Flats': 3, 'North Shore': 3, 'Central Northside': 1}), '7': Counter({'Oakland': 32, 'Not a station in a defined neighborhood': 17, 'East Liberty': 8, 'Shadyside': 5, 'North Shore': 2, 'Squirrel Hill': 1, 'Southside Flats': 1}), '0': Counter({'Oakland': 113, 'Not a station in a defined neighborhood': 22, 'Shadyside': 19, 'Southside Flats': 13, 'Downtown': 5, 'East Liberty': 4, 'Lawrenceville': 1, 'Squirrel Hill': 1}), '3': Counter({'Oakland': 38, 'Shadyside': 6, 'Not a station in a defined neighborhood': 4, 'Downtown': 4, 'North Shore': 2, 'East Liberty': 2, 'Strip District': 1}), '23': Counter({'Oakland': 118, 'Not a station in a defined neighborhood': 26, 'Shadyside': 14, 'Southside Flats': 11, 'Squirrel Hill': 3, 'East Liberty': 2, 'Downtown': 1, 'North Shore': 1}), '4': Counter({'Oakland': 14, 'Shadyside': 5, 'Not a station in a defined neighborhood': 2, 'East Liberty': 1})}\n"
     ]
    }
   ],
   "metadata": {}
  }
 ],
 "metadata": {
  "kernelspec": {
   "name": "python3",
   "display_name": "Python 3.8.8 64-bit ('base': conda)"
  },
  "language_info": {
   "codemirror_mode": {
    "name": "ipython",
    "version": 3
   },
   "file_extension": ".py",
   "mimetype": "text/x-python",
   "name": "python",
   "nbconvert_exporter": "python",
   "pygments_lexer": "ipython3",
   "version": "3.8.8"
  },
  "interpreter": {
   "hash": "a4aab969673adf21db0441d574ea3b97bef840fe2e2d7de64b14c408b24a9b14"
  }
 },
 "nbformat": 4,
 "nbformat_minor": 5
}