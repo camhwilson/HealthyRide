{
 "cells": [
  {
   "cell_type": "code",
   "execution_count": 1,
   "source": [
    "import pandas as pd\n",
    "\n",
    "import sys  \n",
    "sys.path.insert(0, '/Users/cwilson/desktop/programming/jupyter_tings/healthyride/healthyride')\n",
    "\n",
    "from resource_consolidation import Resources\n",
    "from trip import Trip\n",
    "\n",
    "from collections import Counter\n",
    "\n",
    "from dataclasses import dataclass\n",
    "\n",
    "from typing import List"
   ],
   "outputs": [],
   "metadata": {}
  },
  {
   "cell_type": "code",
   "execution_count": 2,
   "source": [
    "url = 'https://data.wprdc.org/dataset/healthyride-trip-data'\n",
    "resource_extension = '/dataset/healthyride-trip-data/resource/'\n",
    "resource_calling_string = 'https://data.wprdc.org/api/3/action/datastore_search?resource_id='\n"
   ],
   "outputs": [],
   "metadata": {}
  },
  {
   "cell_type": "code",
   "execution_count": 3,
   "source": [
    "#create empty container for data \n",
    "data_container = Resources(url, resource_extension, resource_calling_string)\n",
    "#create json string with data from API\n",
    "json_list = data_container.create_json()"
   ],
   "outputs": [
    {
     "output_type": "stream",
     "name": "stdout",
     "text": [
      "working on: https://data.wprdc.org/api/3/action/datastore_search?resource_id=102b0be5-aa3f-48b5-9306-e628ae1ae44d\n",
      "of length: 7224\n",
      "correct length\n",
      "working on: https://data.wprdc.org/api/3/action/datastore_search?resource_id=d46ce40f-d8d4-490d-9ab8-ba5bb91c2fbb\n",
      "of length: 17595\n",
      "correct length\n",
      "working on: https://data.wprdc.org/api/3/action/datastore_search?resource_id=030d12a3-fda6-4f2c-a508-ff23a4ecf195\n",
      "of length: 26973\n",
      "correct length\n",
      "working on: https://data.wprdc.org/api/3/action/datastore_search?resource_id=45bd5889-8ea1-4e71-ba83-f8103725e5d8\n",
      "of length: 10448\n",
      "correct length\n",
      "working on: https://data.wprdc.org/api/3/action/datastore_search?resource_id=fe985614-775c-42e3-9647-59099806329d\n",
      "of length: 10\n",
      "too short to add\n",
      "working on: https://data.wprdc.org/api/3/action/datastore_search?resource_id=c2608a60-9282-4e3d-b45d-a0306b75a3c9\n",
      "of length: 11322\n",
      "correct length\n",
      "working on: https://data.wprdc.org/api/3/action/datastore_search?resource_id=7fe58023-39be-4fa5-a7b7-27d7b0e077a7\n",
      "of length: 15100\n",
      "correct length\n",
      "working on: https://data.wprdc.org/api/3/action/datastore_search?resource_id=a077921d-ae97-48fd-a85d-b31395245ae1\n",
      "of length: 29811\n",
      "correct length\n",
      "working on: https://data.wprdc.org/api/3/action/datastore_search?resource_id=7f68c23c-7ba3-4e5c-862d-e0cdc7ec2b67\n",
      "of length: 38007\n",
      "correct length\n",
      "working on: https://data.wprdc.org/api/3/action/datastore_search?resource_id=24c8a7c0-ea06-441e-b07f-950547194c1b\n",
      "of length: 33265\n",
      "correct length\n",
      "working on: https://data.wprdc.org/api/3/action/datastore_search?resource_id=c85436af-ba38-4d91-967f-3e11e4d62a43\n",
      "of length: 500000\n",
      "correct length\n",
      "working on: https://data.wprdc.org/api/3/action/datastore_search?resource_id=d1c388f1-a7c1-4d28-910f-fffebdcd1689\n",
      "of length: 35815\n",
      "correct length\n",
      "working on: https://data.wprdc.org/api/3/action/datastore_search?resource_id=6ab85d5c-b7a1-41f2-a7a5-1eec8cea4d8c\n",
      "of length: 19855\n",
      "correct length\n",
      "working on: https://data.wprdc.org/api/3/action/datastore_search?resource_id=e71c0d16-0109-4b50-9ea2-02d82180b7e7\n",
      "of length: 43616\n",
      "correct length\n",
      "working on: https://data.wprdc.org/api/3/action/datastore_search?resource_id=fcf1fe7c-b59f-4873-8b66-3715191af75a\n",
      "of length: 8813\n",
      "correct length\n",
      "working on: https://data.wprdc.org/api/3/action/datastore_search?resource_id=ebd54bd3-6e46-4941-af21-65bdc3fb4ced\n",
      "of length: 26370\n",
      "correct length\n",
      "working on: https://data.wprdc.org/api/3/action/datastore_search?resource_id=92a1a819-2750-4625-88e3-48cf3dd87794\n",
      "of length: 9841\n",
      "correct length\n",
      "working on: https://data.wprdc.org/api/3/action/datastore_search?resource_id=2617daa2-4f89-4e2c-9be9-98254f1d8352\n",
      "of length: 28841\n",
      "correct length\n",
      "working on: https://data.wprdc.org/api/3/action/datastore_search?resource_id=f8e0d66b-3958-4c8c-97d0-4351b9dfb222\n",
      "of length: 5186\n",
      "correct length\n",
      "working on: https://data.wprdc.org/api/3/action/datastore_search?resource_id=7aaac45e-bc45-4219-a856-4d26c1706fdb\n",
      "of length: 14619\n",
      "correct length\n",
      "working on: https://data.wprdc.org/api/3/action/datastore_search?resource_id=7c5a30a3-797d-4861-b979-6bb4298b7d0d\n",
      "of length: 27706\n",
      "correct length\n",
      "working on: https://data.wprdc.org/api/3/action/datastore_search?resource_id=15ce5154-4807-4d29-baa1-b63bbb033b79\n",
      "of length: 9198\n",
      "correct length\n",
      "working on: https://data.wprdc.org/api/3/action/datastore_search?resource_id=488309de-06de-4502-b4c5-f5dd75f6445e\n",
      "of length: 37785\n",
      "correct length\n",
      "working on: https://data.wprdc.org/api/3/action/datastore_search?resource_id=79fc7302-7991-4b5a-b27a-d7c4f21b5b8d\n",
      "of length: 12225\n",
      "correct length\n",
      "working on: https://data.wprdc.org/api/3/action/datastore_search?resource_id=2c29e217-935d-4d66-909f-9f1b060ed36c\n",
      "of length: 24313\n",
      "correct length\n",
      "working on: https://data.wprdc.org/api/3/action/datastore_search?resource_id=fc3bf582-3ea1-497b-bb0e-8a92d985f28b\n",
      "of length: 11647\n",
      "correct length\n"
     ]
    }
   ],
   "metadata": {
    "scrolled": true
   }
  },
  {
   "cell_type": "code",
   "execution_count": 4,
   "source": [
    "print(json_list[0])\n"
   ],
   "outputs": [
    {
     "output_type": "stream",
     "name": "stdout",
     "text": [
      "{'Trip id': '25723960', 'Bikeid': '70478', 'To station name': 'Zulema St & Coltart Ave', 'Usertype': 'Subscriber', 'Stoptime': '1/1/2017 8:30', 'From station name': 'S Millvale Ave & Centre Ave', 'Starttime': '1/1/2017 8:28', 'To station id': '1044', 'Tripduration': '110', '_id': 1, 'From station id': '1043'}\n"
     ]
    }
   ],
   "metadata": {}
  },
  {
   "cell_type": "code",
   "execution_count": 5,
   "source": [
    "#convert list of dicts to list of objects called \"Trips\"\n",
    "Trip_list = []\n",
    "for dict in json_list:\n",
    "    li = list(dict.values())\n",
    "    Trip_list.append(Trip(*li))"
   ],
   "outputs": [],
   "metadata": {}
  },
  {
   "cell_type": "code",
   "execution_count": 6,
   "source": [
    "#test er out\n",
    "print(Trip_list[420])\n",
    "print(Trip_list[420].toname)\n",
    "print(Trip_list[420].starttime)\n",
    "print(Trip_list[420].weekday)\n",
    "print(Trip_list[420].start_neighborhood)"
   ],
   "outputs": [
    {
     "output_type": "stream",
     "name": "stdout",
     "text": [
      "Trip(tripid='25783219', bikeid='70131', toname='S Euclid Ave & Centre Ave', usertype='Subscriber', stoptime='1/14/2017 12:08', fromname='42nd & Penn Ave.', starttime='1/14/2017 11:58', toid='1030', tripduration='562', _id=420, fromid='1020')\n",
      "S Euclid Ave & Centre Ave\n",
      "1/14/2017 11:58\n",
      "5\n",
      "Lawrenceville\n"
     ]
    }
   ],
   "metadata": {}
  },
  {
   "cell_type": "code",
   "execution_count": 7,
   "source": [
    "def group_by_arrival_neighborhood(Trip_list):\n",
    "    return_dict = {}\n",
    "    for i in Trip_list:\n",
    "        if i.start_neighborhood not in return_dict.keys():\n",
    "            return_dict[i.start_neighborhood] = [i]\n",
    "        else:\n",
    "            return_dict[i.start_neighborhood].append(i)\n",
    "    return return_dict\n",
    "\n",
    "\n",
    "def group_by_departure_neighborhood(Trip_list):\n",
    "    return_dict = {}\n",
    "    for i in Trip_list:\n",
    "        if i.end_neighborhood not in return_dict.keys():\n",
    "            return_dict[i.end_neighborhood] = [i]\n",
    "        else:\n",
    "            return_dict[i.end_neighborhood].append(i)\n",
    "    return return_dict"
   ],
   "outputs": [],
   "metadata": {}
  },
  {
   "cell_type": "code",
   "execution_count": 8,
   "source": [
    "@dataclass\n",
    "class Hour:\n",
    "    self : List[Trip]\n",
    "    \n",
    "    def __getitem__(self, item):\n",
    "         return self\n",
    "\n",
    "\n",
    "    #def __post_init__(self):\n",
    "        #self.counted_neighborhoods \n",
    "\n",
    "@dataclass\n",
    "class Weekday:\n",
    "    self : List[Hour]\n",
    "\n",
    "\n",
    "\n",
    "@dataclass\n",
    "class Neighborhood:\n",
    "    self : List[Weekday]\n",
    "    \n",
    "@dataclass \n",
    "class Direction:\n",
    "    arrivals : List[Neighborhood]\n",
    "    departures : List[Neighborhood]"
   ],
   "outputs": [],
   "metadata": {}
  },
  {
   "cell_type": "code",
   "execution_count": 9,
   "source": [
    "hour_list = Hour(Trip_list)\n",
    "print(hour_list)"
   ],
   "outputs": [],
   "metadata": {}
  },
  {
   "cell_type": "code",
   "execution_count": null,
   "source": [
    "def filter_list_to_just_objects(Trip_list):\n",
    "    return [i for i in Trip_list if isinstance(i, Trip)], [i for i in Trip_list if not isinstance(i, Trip)]\n",
    "\n",
    "#split into lists which group by day, then by hour\n",
    "def group_trip_list_by_weekday(Trip_list):\n",
    "    \"\"\"function groups trip lists by weekday\"\"\"\n",
    "    weekday_trip_dict = {}\n",
    "    for i in Trip_list:\n",
    "        if i.weekday not in weekday_trip_dict.keys():\n",
    "            weekday_trip_dict[i.weekday] = [i]\n",
    "        else:\n",
    "            weekday_trip_dict[i.weekday] += [i]\n",
    "    return weekday_trip_dict\n",
    "\n",
    "\n",
    "def group_trip_list_by_departure_hour(Trip_list):\n",
    "    \"\"\"function groups trip lists by hour of day\"\"\"\n",
    "    hourly_trip_dict = {}\n",
    "    for i in Trip_list:\n",
    "        date = i.stoptime\n",
    "        try:\n",
    "            hour = date[date.find(' ')+len(' '):date.rfind(':')]\n",
    "        except:\n",
    "            hour = 'missing date'\n",
    "        \n",
    "        if hour not in hourly_trip_dict.keys():\n",
    "            hourly_trip_dict[hour] = [i.start_neighborhood]\n",
    "        else:\n",
    "            hourly_trip_dict[hour] += [i.start_neighborhood]\n",
    "    return convert_hourly_trip_dict_to_counter(hourly_trip_dict)\n",
    "\n",
    "\n",
    "def group_trip_list_by_arrival_hour(Trip_list):\n",
    "    \"\"\"function groups trip lists by hour of day\"\"\"\n",
    "    #print(len(filter_list_to_just_objects(Trip_list)[1]))\n",
    "    hourly_trip_dict = {}\n",
    "    for i in Trip_list:\n",
    "        date = i.starttime\n",
    "        try:\n",
    "            hour = date[date.find(' ')+len(' '):date.rfind(':')]\n",
    "        except:\n",
    "            hour = 'missing date'\n",
    "\n",
    "        if hour not in hourly_trip_dict.keys():\n",
    "            hourly_trip_dict[hour] = [i.end_neighborhood]\n",
    "        else:\n",
    "            hourly_trip_dict[hour] += [i.end_neighborhood]\n",
    "    \n",
    "\n",
    "    return convert_hourly_trip_dict_to_counter(hourly_trip_dict)\n",
    "\n",
    "\n",
    "\n",
    "def convert_hourly_trip_dict_to_counter(hourly_trip_dict):\n",
    "    counted_hourly_neighborhoods = {}\n",
    "    for key, val in hourly_trip_dict.items():\n",
    "        counted_hourly_neighborhoods[key] = Counter(val)\n",
    "    return counted_hourly_neighborhoods\n",
    "        \n",
    "\n",
    "\n",
    "\n",
    "def create_hourly_dict_grouped_by_weeks(Trip_list, func):\n",
    "    \"\"\"function takes master trip list and passes it through create weekday dict, \n",
    "        then creates nested dict with hourly volumes\"\"\"\n",
    "    return_hourly_values = {}\n",
    "    \n",
    "    weekday_trip_dict = group_trip_list_by_weekday(Trip_list)  \n",
    "    \n",
    "    for key, val in weekday_trip_dict.items():\n",
    "        #print(key, len(filter_list_to_just_objects(val)[1]))\n",
    "\n",
    "        return_hourly_values[key] = func(val)\n",
    "    \n",
    "    return return_hourly_values\n",
    "\n"
   ],
   "outputs": [],
   "metadata": {}
  },
  {
   "cell_type": "code",
   "execution_count": null,
   "source": [
    "#apply group_by_arrival_neighborhood and group_by_departure_neighborhood first, then create hourly dict grouped by weeks\n",
    "def sort_direction_neighborhood_weekday_hour(Trip_list):\n",
    "    neighborhood_by_arrivals = group_by_arrival_neighborhood(Trip_list)\n",
    "\n",
    "    neighborhood_by_departures = group_by_departure_neighborhood(Trip_list)\n",
    "\n",
    "    return_sorted_arrivals = {}\n",
    "    for key, val in neighborhood_by_arrivals.items():\n",
    "        #print(key, len(filter_list_to_just_objects(val)[1]))\n",
    "        return_sorted_arrivals[key] = create_hourly_dict_grouped_by_weeks(val, group_trip_list_by_arrival_hour)\n",
    "    \n",
    "    return_sorted_departures = {}\n",
    "    for key, val in neighborhood_by_departures.items():\n",
    "        #print(len(filter_list_to_just_objects(val)[1]))\n",
    "        return_sorted_departures[key] = create_hourly_dict_grouped_by_weeks(val, group_trip_list_by_departure_hour)\n",
    "    \n",
    "    return return_sorted_arrivals, return_sorted_departures"
   ],
   "outputs": [],
   "metadata": {}
  },
  {
   "cell_type": "code",
   "execution_count": null,
   "source": [
    "first_t = sort_direction_neighborhood_weekday_hour(Trip_list)"
   ],
   "outputs": [],
   "metadata": {}
  },
  {
   "cell_type": "code",
   "execution_count": null,
   "source": [
    "print(first_t[0]['Oakland'][6])"
   ],
   "outputs": [],
   "metadata": {}
  },
  {
   "cell_type": "code",
   "execution_count": null,
   "source": [
    "arrival_neighborhoods = [i.start_neighborhood for i in downtown_arrivals]\n",
    "departure_neighborhoods = [i.end_neighborhood for i in downtown_departures]\n",
    "print(arrival_neighborhoods[0])"
   ],
   "outputs": [],
   "metadata": {}
  },
  {
   "cell_type": "code",
   "execution_count": null,
   "source": [
    "counted_downtown_arrivals = Counter(arrival_neighborhoods)\n",
    "counted_downtown_departures = Counter(departure_neighborhoods)\n",
    "print(counted_downtown_arrivals)\n",
    "print(counted_downtown_departures)"
   ],
   "outputs": [],
   "metadata": {}
  }
 ],
 "metadata": {
  "kernelspec": {
   "name": "python3",
   "display_name": "Python 3.8.8 64-bit ('base': conda)"
  },
  "language_info": {
   "codemirror_mode": {
    "name": "ipython",
    "version": 3
   },
   "file_extension": ".py",
   "mimetype": "text/x-python",
   "name": "python",
   "nbconvert_exporter": "python",
   "pygments_lexer": "ipython3",
   "version": "3.8.8"
  },
  "interpreter": {
   "hash": "a4aab969673adf21db0441d574ea3b97bef840fe2e2d7de64b14c408b24a9b14"
  }
 },
 "nbformat": 4,
 "nbformat_minor": 5
}