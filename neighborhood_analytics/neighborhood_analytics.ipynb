{
 "cells": [
  {
   "cell_type": "code",
   "execution_count": 1,
   "source": [
    "\n",
    "import sys  \n",
    "sys.path.insert(0, '/Users/cwilson/desktop/programming/jupyter_tings/healthyride/healthyride')\n",
    "\n",
    "from resource_consolidation import Resources\n",
    "from trip import Trip\n",
    "from neighborhood_analytics.neighborhood import Neighborhood\n"
   ],
   "outputs": [],
   "metadata": {}
  },
  {
   "cell_type": "code",
   "execution_count": 2,
   "source": [
    "url = 'https://data.wprdc.org/dataset/healthyride-trip-data'\n",
    "resource_extension = '/dataset/healthyride-trip-data/resource/'\n",
    "resource_calling_string = 'https://data.wprdc.org/api/3/action/datastore_search?resource_id='\n"
   ],
   "outputs": [],
   "metadata": {}
  },
  {
   "cell_type": "code",
   "execution_count": 3,
   "source": [
    "#create empty container for data \n",
    "data_container = Resources(url, resource_extension, resource_calling_string)\n",
    "#create json string with data from API\n",
    "json_list = data_container.create_json()"
   ],
   "outputs": [
    {
     "output_type": "stream",
     "name": "stdout",
     "text": [
      "working on: https://data.wprdc.org/api/3/action/datastore_search?resource_id=7f68c23c-7ba3-4e5c-862d-e0cdc7ec2b67\n",
      "of length: 38007\n",
      "correct length\n",
      "working on: https://data.wprdc.org/api/3/action/datastore_search?resource_id=102b0be5-aa3f-48b5-9306-e628ae1ae44d\n",
      "of length: 7224\n",
      "correct length\n",
      "working on: https://data.wprdc.org/api/3/action/datastore_search?resource_id=6ab85d5c-b7a1-41f2-a7a5-1eec8cea4d8c\n",
      "of length: 19855\n",
      "correct length\n",
      "working on: https://data.wprdc.org/api/3/action/datastore_search?resource_id=e71c0d16-0109-4b50-9ea2-02d82180b7e7\n",
      "of length: 43616\n",
      "correct length\n",
      "working on: https://data.wprdc.org/api/3/action/datastore_search?resource_id=c2608a60-9282-4e3d-b45d-a0306b75a3c9\n",
      "of length: 11322\n",
      "correct length\n",
      "working on: https://data.wprdc.org/api/3/action/datastore_search?resource_id=d46ce40f-d8d4-490d-9ab8-ba5bb91c2fbb\n",
      "of length: 17595\n",
      "correct length\n",
      "working on: https://data.wprdc.org/api/3/action/datastore_search?resource_id=ebd54bd3-6e46-4941-af21-65bdc3fb4ced\n",
      "of length: 26370\n",
      "correct length\n",
      "working on: https://data.wprdc.org/api/3/action/datastore_search?resource_id=92a1a819-2750-4625-88e3-48cf3dd87794\n",
      "of length: 9841\n",
      "correct length\n",
      "working on: https://data.wprdc.org/api/3/action/datastore_search?resource_id=2617daa2-4f89-4e2c-9be9-98254f1d8352\n",
      "of length: 28841\n",
      "correct length\n",
      "working on: https://data.wprdc.org/api/3/action/datastore_search?resource_id=fc3bf582-3ea1-497b-bb0e-8a92d985f28b\n",
      "of length: 11647\n",
      "correct length\n",
      "working on: https://data.wprdc.org/api/3/action/datastore_search?resource_id=030d12a3-fda6-4f2c-a508-ff23a4ecf195\n",
      "of length: 26973\n",
      "correct length\n",
      "working on: https://data.wprdc.org/api/3/action/datastore_search?resource_id=24c8a7c0-ea06-441e-b07f-950547194c1b\n",
      "of length: 33265\n",
      "correct length\n",
      "working on: https://data.wprdc.org/api/3/action/datastore_search?resource_id=7c5a30a3-797d-4861-b979-6bb4298b7d0d\n",
      "of length: 27706\n",
      "correct length\n",
      "working on: https://data.wprdc.org/api/3/action/datastore_search?resource_id=fcf1fe7c-b59f-4873-8b66-3715191af75a\n",
      "of length: 8813\n",
      "correct length\n",
      "working on: https://data.wprdc.org/api/3/action/datastore_search?resource_id=c85436af-ba38-4d91-967f-3e11e4d62a43\n",
      "of length: 500000\n",
      "correct length\n",
      "working on: https://data.wprdc.org/api/3/action/datastore_search?resource_id=d1c388f1-a7c1-4d28-910f-fffebdcd1689\n",
      "of length: 35815\n",
      "correct length\n",
      "working on: https://data.wprdc.org/api/3/action/datastore_search?resource_id=7fe58023-39be-4fa5-a7b7-27d7b0e077a7\n",
      "of length: 15100\n",
      "correct length\n",
      "working on: https://data.wprdc.org/api/3/action/datastore_search?resource_id=15ce5154-4807-4d29-baa1-b63bbb033b79\n",
      "of length: 9198\n",
      "correct length\n",
      "working on: https://data.wprdc.org/api/3/action/datastore_search?resource_id=79fc7302-7991-4b5a-b27a-d7c4f21b5b8d\n",
      "of length: 12225\n",
      "correct length\n",
      "working on: https://data.wprdc.org/api/3/action/datastore_search?resource_id=fe985614-775c-42e3-9647-59099806329d\n",
      "of length: 10\n",
      "too short to add\n",
      "working on: https://data.wprdc.org/api/3/action/datastore_search?resource_id=45bd5889-8ea1-4e71-ba83-f8103725e5d8\n",
      "of length: 10448\n",
      "correct length\n",
      "working on: https://data.wprdc.org/api/3/action/datastore_search?resource_id=2c29e217-935d-4d66-909f-9f1b060ed36c\n",
      "of length: 24313\n",
      "correct length\n",
      "working on: https://data.wprdc.org/api/3/action/datastore_search?resource_id=f8e0d66b-3958-4c8c-97d0-4351b9dfb222\n",
      "of length: 5186\n",
      "correct length\n",
      "working on: https://data.wprdc.org/api/3/action/datastore_search?resource_id=a077921d-ae97-48fd-a85d-b31395245ae1\n",
      "of length: 29811\n",
      "correct length\n",
      "working on: https://data.wprdc.org/api/3/action/datastore_search?resource_id=488309de-06de-4502-b4c5-f5dd75f6445e\n",
      "of length: 37785\n",
      "correct length\n",
      "working on: https://data.wprdc.org/api/3/action/datastore_search?resource_id=7aaac45e-bc45-4219-a856-4d26c1706fdb\n",
      "of length: 14619\n",
      "correct length\n"
     ]
    }
   ],
   "metadata": {
    "scrolled": true
   }
  },
  {
   "cell_type": "code",
   "execution_count": 4,
   "source": [
    "#print 420th trip in the list\n",
    "print(json_list[420])"
   ],
   "outputs": [
    {
     "output_type": "stream",
     "name": "stdout",
     "text": [
      "{'Trip id': '11753485', 'Bikeid': '70349', 'To station name': 'Maryland Ave & Ellsworth Ave', 'Usertype': 'Customer', 'Stoptime': '7/2/2015 1:26', 'From station name': 'Atwood St & Bates St', 'Starttime': '7/2/2015 1:10', 'To station id': '1031', 'Tripduration': '931', '_id': 418, 'From station id': '1039'}\n"
     ]
    }
   ],
   "metadata": {}
  },
  {
   "cell_type": "code",
   "execution_count": 5,
   "source": [
    "#convert list of dicts to list of objects called \"Trips\"\n",
    "Trip_list = []\n",
    "for dict in json_list:\n",
    "    li = list(dict.values())\n",
    "    Trip_list.append(Trip(*li))"
   ],
   "outputs": [],
   "metadata": {}
  },
  {
   "cell_type": "code",
   "execution_count": 6,
   "source": [
    "#test er out\n",
    "print(Trip_list[420])\n",
    "print(Trip_list[420].toname)\n",
    "print(Trip_list[420].starttime)\n",
    "print(Trip_list[420].weekday)\n",
    "print(Trip_list[420].start_neighborhood)"
   ],
   "outputs": [
    {
     "output_type": "stream",
     "name": "stdout",
     "text": [
      "Trip(tripid='11753485', bikeid='70349', toname='Maryland Ave & Ellsworth Ave', usertype='Customer', stoptime='7/2/2015 1:26', fromname='Atwood St & Bates St', starttime='7/2/2015 1:10', toid='1031', tripduration='931', _id=418, fromid='1039')\n",
      "Maryland Ave & Ellsworth Ave\n",
      "7/2/2015 1:10\n",
      "3\n",
      "Oakland\n"
     ]
    }
   ],
   "metadata": {}
  },
  {
   "cell_type": "code",
   "execution_count": 7,
   "source": [
    "print(len(Trip_list))"
   ],
   "outputs": [
    {
     "output_type": "stream",
     "name": "stdout",
     "text": [
      "1005575\n"
     ]
    }
   ],
   "metadata": {}
  },
  {
   "cell_type": "code",
   "execution_count": 8,
   "source": [
    "trip_tuple = Neighborhood.sort_direction_neighborhood_weekday_hour(Trip_list)\n",
    "\n",
    "arrivals_by_neighborhood = trip_tuple[0]\n",
    "departures_by_neighborhood = trip_tuple[1]\n"
   ],
   "outputs": [],
   "metadata": {}
  },
  {
   "cell_type": "code",
   "execution_count": 9,
   "source": [
    "# print the 6th day of the week of arrivals by hour in oakland\n",
    "print(arrivals_by_neighborhood['Oakland'][6])"
   ],
   "outputs": [
    {
     "output_type": "stream",
     "name": "stdout",
     "text": [
      "{'1': Counter({'Oakland': 119, 'Not a station in a defined neighborhood': 33, 'Shadyside': 20, 'East Liberty': 8, 'Southside Flats': 7, 'North Shore': 1, 'Squirrel Hill': 1, 'Downtown': 1}), '0': Counter({'Oakland': 113, 'Not a station in a defined neighborhood': 42, 'Shadyside': 12, 'Southside Flats': 10, 'East Liberty': 3, 'North Shore': 2, 'Downtown': 1, 'Squirrel Hill': 1}), '7': Counter({'Oakland': 32, 'Not a station in a defined neighborhood': 11, 'Shadyside': 7, 'Southside Flats': 6, 'East Liberty': 5, 'Downtown': 2, 'Strip District': 2, 'North Shore': 1}), '9': Counter({'Oakland': 92, 'Downtown': 25, 'Not a station in a defined neighborhood': 24, 'Southside Flats': 17, 'Shadyside': 12, 'East Liberty': 10, 'North Shore': 2, 'Lawrenceville': 1, 'Squirrel Hill': 1}), '11': Counter({'Oakland': 252, 'Not a station in a defined neighborhood': 66, 'Downtown': 43, 'Southside Flats': 37, 'Shadyside': 33, 'East Liberty': 11, 'Strip District': 7, 'Squirrel Hill': 6, 'Lawrenceville': 4, 'North Shore': 2, 'Central Northside': 1}), '12': Counter({'Oakland': 356, 'Not a station in a defined neighborhood': 87, 'Downtown': 46, 'Southside Flats': 40, 'Shadyside': 39, 'East Liberty': 15, 'Strip District': 12, 'Squirrel Hill': 12, 'North Shore': 8, 'Lawrenceville': 7}), '14': Counter({'Oakland': 466, 'Not a station in a defined neighborhood': 116, 'Southside Flats': 70, 'Downtown': 64, 'Shadyside': 42, 'East Liberty': 30, 'Strip District': 18, 'Squirrel Hill': 7, 'Lawrenceville': 6, 'North Shore': 5, 'Central Northside': 3}), '13': Counter({'Oakland': 356, 'Not a station in a defined neighborhood': 118, 'Southside Flats': 50, 'Shadyside': 46, 'Downtown': 43, 'East Liberty': 29, 'Strip District': 19, 'North Shore': 7, 'Squirrel Hill': 5, 'Lawrenceville': 4, 'Central Northside': 2}), '15': Counter({'Oakland': 490, 'Not a station in a defined neighborhood': 111, 'Shadyside': 70, 'Southside Flats': 61, 'Downtown': 42, 'East Liberty': 25, 'Strip District': 16, 'Lawrenceville': 8, 'Central Northside': 8, 'Squirrel Hill': 7, 'North Shore': 3}), '16': Counter({'Oakland': 505, 'Not a station in a defined neighborhood': 115, 'Southside Flats': 72, 'Shadyside': 63, 'Downtown': 61, 'East Liberty': 42, 'Squirrel Hill': 16, 'Lawrenceville': 12, 'Strip District': 8, 'North Shore': 8}), '17': Counter({'Oakland': 558, 'Not a station in a defined neighborhood': 141, 'Shadyside': 62, 'Southside Flats': 62, 'Downtown': 38, 'East Liberty': 31, 'Lawrenceville': 14, 'Squirrel Hill': 7, 'Central Northside': 7, 'Strip District': 6, 'North Shore': 2}), '18': Counter({'Oakland': 499, 'Not a station in a defined neighborhood': 102, 'Downtown': 49, 'Shadyside': 47, 'Southside Flats': 36, 'East Liberty': 35, 'Squirrel Hill': 17, 'Lawrenceville': 11, 'North Shore': 9, 'Central Northside': 2, 'Strip District': 2}), '19': Counter({'Oakland': 398, 'Not a station in a defined neighborhood': 91, 'Shadyside': 45, 'Downtown': 36, 'Southside Flats': 35, 'East Liberty': 29, 'Squirrel Hill': 18, 'Strip District': 4, 'North Shore': 3, 'Lawrenceville': 2}), '20': Counter({'Oakland': 351, 'Not a station in a defined neighborhood': 76, 'Shadyside': 34, 'Downtown': 25, 'Southside Flats': 19, 'East Liberty': 19, 'Squirrel Hill': 10, 'Lawrenceville': 4}), '21': Counter({'Oakland': 247, 'Not a station in a defined neighborhood': 51, 'Shadyside': 27, 'Southside Flats': 14, 'East Liberty': 12, 'Downtown': 11, 'Squirrel Hill': 7}), '22': Counter({'Oakland': 160, 'Not a station in a defined neighborhood': 50, 'Southside Flats': 13, 'Shadyside': 12, 'Downtown': 8, 'Squirrel Hill': 7, 'East Liberty': 5}), '23': Counter({'Oakland': 118, 'Not a station in a defined neighborhood': 30, 'Southside Flats': 22, 'Downtown': 18, 'Shadyside': 16, 'Squirrel Hill': 6, 'East Liberty': 4}), '10': Counter({'Oakland': 167, 'Not a station in a defined neighborhood': 66, 'Shadyside': 34, 'Southside Flats': 24, 'Downtown': 21, 'East Liberty': 10, 'Lawrenceville': 5, 'North Shore': 5, 'Squirrel Hill': 4}), '3': Counter({'Oakland': 38, 'Not a station in a defined neighborhood': 37, 'Shadyside': 15, 'East Liberty': 15, 'Southside Flats': 3, 'Downtown': 2}), '5': Counter({'Oakland': 20, 'Not a station in a defined neighborhood': 9, 'East Liberty': 4, 'Shadyside': 2, 'Central Northside': 1, 'Southside Flats': 1, 'North Shore': 1, 'Downtown': 1}), '2': Counter({'Oakland': 75, 'Not a station in a defined neighborhood': 33, 'Shadyside': 20, 'Southside Flats': 7, 'East Liberty': 5, 'Downtown': 5, 'Central Northside': 1, 'Squirrel Hill': 1}), '6': Counter({'Oakland': 16, 'Not a station in a defined neighborhood': 11, 'Downtown': 11, 'Lawrenceville': 1}), '8': Counter({'Oakland': 37, 'Downtown': 33, 'Southside Flats': 11, 'Not a station in a defined neighborhood': 10, 'Shadyside': 10, 'East Liberty': 4, 'Squirrel Hill': 2}), '4': Counter({'Oakland': 14, 'Not a station in a defined neighborhood': 7, 'Shadyside': 4, 'East Liberty': 3})}\n"
     ]
    }
   ],
   "metadata": {}
  },
  {
   "cell_type": "code",
   "execution_count": 10,
   "source": [
    "# print the 6th day of the week of departures by hour in oakland\n",
    "print(departures_by_neighborhood['Oakland'][6])"
   ],
   "outputs": [
    {
     "output_type": "stream",
     "name": "stdout",
     "text": [
      "{'0': Counter({'Oakland': 134, 'Not a station in a defined neighborhood': 28, 'Shadyside': 18, 'Southside Flats': 15, 'Downtown': 6, 'Squirrel Hill': 5, 'East Liberty': 4, 'Lawrenceville': 2, 'North Shore': 2}), '2': Counter({'Oakland': 55, 'Not a station in a defined neighborhood': 17, 'Southside Flats': 11, 'Shadyside': 8, 'Downtown': 4, 'East Liberty': 2, 'North Shore': 2, 'Lawrenceville': 1, 'Strip District': 1}), '5': Counter({'Oakland': 9, 'Not a station in a defined neighborhood': 9, 'Shadyside': 3, 'Lawrenceville': 1, 'East Liberty': 1, 'Downtown': 1}), '6': Counter({'Oakland': 25, 'Not a station in a defined neighborhood': 13, 'Shadyside': 10, 'East Liberty': 8, 'North Shore': 2, 'Squirrel Hill': 1}), '7': Counter({'Oakland': 25, 'Not a station in a defined neighborhood': 19, 'Shadyside': 6, 'East Liberty': 5, 'Downtown': 2, 'Southside Flats': 2, 'Squirrel Hill': 1}), '9': Counter({'Oakland': 119, 'Not a station in a defined neighborhood': 71, 'Shadyside': 36, 'East Liberty': 22, 'Downtown': 8, 'Lawrenceville': 8, 'Strip District': 3, 'Squirrel Hill': 3, 'North Shore': 2, 'Southside Flats': 2}), '10': Counter({'Oakland': 192, 'Not a station in a defined neighborhood': 73, 'Shadyside': 39, 'East Liberty': 16, 'Downtown': 14, 'Southside Flats': 12, 'Squirrel Hill': 6, 'North Shore': 5, 'Lawrenceville': 2, 'Central Northside': 2, 'Strip District': 1}), '11': Counter({'Oakland': 295, 'Not a station in a defined neighborhood': 93, 'Shadyside': 64, 'East Liberty': 27, 'Southside Flats': 23, 'Downtown': 21, 'Squirrel Hill': 16, 'Lawrenceville': 5, 'Strip District': 4, 'North Shore': 2}), '12': Counter({'Oakland': 354, 'Not a station in a defined neighborhood': 115, 'Shadyside': 56, 'Squirrel Hill': 27, 'Southside Flats': 26, 'East Liberty': 24, 'Downtown': 24, 'Strip District': 9, 'Lawrenceville': 2, 'North Shore': 1, 'Central Northside': 1}), '13': Counter({'Oakland': 468, 'Not a station in a defined neighborhood': 120, 'Shadyside': 50, 'Southside Flats': 29, 'Squirrel Hill': 29, 'East Liberty': 28, 'Downtown': 26, 'Strip District': 9, 'Lawrenceville': 7, 'North Shore': 5, 'Central Northside': 1}), '14': Counter({'Oakland': 503, 'Not a station in a defined neighborhood': 97, 'Shadyside': 81, 'Squirrel Hill': 36, 'Southside Flats': 28, 'East Liberty': 26, 'Downtown': 16, 'Lawrenceville': 9, 'Strip District': 4, 'Central Northside': 1, 'North Shore': 1}), '15': Counter({'Oakland': 512, 'Not a station in a defined neighborhood': 98, 'Shadyside': 56, 'Squirrel Hill': 35, 'East Liberty': 27, 'Southside Flats': 25, 'Downtown': 17, 'Strip District': 13, 'North Shore': 9, 'Lawrenceville': 5, 'Central Northside': 2}), '16': Counter({'Oakland': 507, 'Not a station in a defined neighborhood': 88, 'Shadyside': 45, 'Downtown': 32, 'Squirrel Hill': 31, 'East Liberty': 30, 'Southside Flats': 27, 'Lawrenceville': 5, 'Strip District': 4, 'North Shore': 2}), '17': Counter({'Oakland': 544, 'Not a station in a defined neighborhood': 89, 'Shadyside': 54, 'Downtown': 51, 'Squirrel Hill': 25, 'East Liberty': 21, 'Southside Flats': 12, 'Strip District': 7, 'Lawrenceville': 6, 'Central Northside': 4, 'North Shore': 1}), '18': Counter({'Oakland': 417, 'Not a station in a defined neighborhood': 73, 'Shadyside': 42, 'Squirrel Hill': 28, 'Southside Flats': 16, 'Downtown': 13, 'East Liberty': 10, 'Strip District': 2, 'North Shore': 1}), '19': Counter({'Oakland': 349, 'Not a station in a defined neighborhood': 82, 'Shadyside': 27, 'Squirrel Hill': 20, 'East Liberty': 14, 'Downtown': 11, 'Southside Flats': 10, 'Lawrenceville': 4, 'North Shore': 4}), '20': Counter({'Oakland': 342, 'Not a station in a defined neighborhood': 47, 'Downtown': 28, 'Shadyside': 19, 'East Liberty': 9, 'Squirrel Hill': 9, 'Southside Flats': 8, 'Strip District': 4}), '21': Counter({'Oakland': 188, 'Not a station in a defined neighborhood': 41, 'Shadyside': 16, 'Downtown': 13, 'East Liberty': 12, 'Southside Flats': 4, 'Squirrel Hill': 4, 'North Shore': 3}), '22': Counter({'Oakland': 123, 'Not a station in a defined neighborhood': 22, 'Shadyside': 13, 'Southside Flats': 9, 'East Liberty': 4, 'Squirrel Hill': 3, 'Downtown': 1, 'Central Northside': 1}), '23': Counter({'Oakland': 110, 'Not a station in a defined neighborhood': 24, 'Shadyside': 14, 'Southside Flats': 9, 'Squirrel Hill': 4, 'East Liberty': 2, 'North Shore': 1, 'Lawrenceville': 1}), '1': Counter({'Oakland': 107, 'Not a station in a defined neighborhood': 26, 'Southside Flats': 12, 'Shadyside': 8, 'East Liberty': 4, 'Lawrenceville': 2, 'Downtown': 2, 'North Shore': 1}), '8': Counter({'Oakland': 52, 'Not a station in a defined neighborhood': 30, 'Shadyside': 19, 'East Liberty': 17, 'Downtown': 5, 'Lawrenceville': 5, 'Southside Flats': 4, 'Squirrel Hill': 1}), '4': Counter({'Oakland': 13, 'Shadyside': 4, 'East Liberty': 4, 'Not a station in a defined neighborhood': 2, 'Lawrenceville': 1, 'Southside Flats': 1}), '3': Counter({'Oakland': 36, 'Shadyside': 4, 'Not a station in a defined neighborhood': 3, 'East Liberty': 2, 'Downtown': 1})}\n"
     ]
    }
   ],
   "metadata": {}
  },
  {
   "cell_type": "code",
   "execution_count": 11,
   "source": [
    "#function that zips two dictionaries by identical key\n",
    "\n",
    "def combine_dicts(arrival_dict, departure_dict):\n",
    "    #order matters, arrivals are first index of tuple, departures follow\n",
    "    return_dict = {}\n",
    "    for key in arrival_dict.keys():\n",
    "        return_dict[key] = (arrival_dict[key], departure_dict[key])\n",
    "    return return_dict\n",
    "        "
   ],
   "outputs": [],
   "metadata": {}
  },
  {
   "cell_type": "code",
   "execution_count": 12,
   "source": [
    "tuple_dict = combine_dicts(arrivals_by_neighborhood, departures_by_neighborhood)"
   ],
   "outputs": [],
   "metadata": {}
  },
  {
   "cell_type": "code",
   "execution_count": 13,
   "source": [
    "oakland = tuple_dict['Oakland']"
   ],
   "outputs": [],
   "metadata": {}
  },
  {
   "cell_type": "code",
   "execution_count": 44,
   "source": [
    "from collections import OrderedDict\n",
    "\n",
    "def make_keys_int(d):\n",
    "    return_dict = {}\n",
    "    for key in d.keys():\n",
    "        return_dict[int(key)] = d[key]\n",
    "    return return_dict\n",
    "\n",
    "\n",
    "def order_nested_dict(nested_dict):\n",
    "    return_dict = {}\n",
    "\n",
    "    for key, val in OrderedDict(sorted(nested_dict.items())).items():\n",
    "        nested_dict = make_keys_int(val)\n",
    "\n",
    "        return_dict[key] = OrderedDict(sorted(nested_dict.items()))\n",
    "    return return_dict\n"
   ],
   "outputs": [],
   "metadata": {}
  },
  {
   "cell_type": "code",
   "execution_count": 135,
   "source": [
    "arrivals, departures = oakland\n",
    "\n",
    "ordered_arrivals = order_nested_dict(arrivals)\n",
    "ordered_departures = order_nested_dict(departures)"
   ],
   "outputs": [],
   "metadata": {}
  },
  {
   "cell_type": "code",
   "execution_count": 136,
   "source": [
    "print(ordered_arrivals.keys())"
   ],
   "outputs": [
    {
     "output_type": "stream",
     "name": "stdout",
     "text": [
      "dict_keys([0, 1, 2, 3, 4, 5, 6])\n"
     ]
    }
   ],
   "metadata": {}
  },
  {
   "cell_type": "code",
   "execution_count": 137,
   "source": [
    "print(ordered_arrivals[0].keys())"
   ],
   "outputs": [
    {
     "output_type": "stream",
     "name": "stdout",
     "text": [
      "odict_keys([0, 1, 2, 3, 4, 5, 6, 7, 8, 9, 10, 11, 12, 13, 14, 15, 16, 17, 18, 19, 20, 21, 22, 23])\n"
     ]
    }
   ],
   "metadata": {}
  },
  {
   "cell_type": "code",
   "execution_count": 138,
   "source": [
    "station_dict = {\n",
    "    'Downtown': ['1000', '49701', '1002', '1001', '49691', '49671', '1056', '1003', \n",
    "                                '49731', '1004', '1006', '49651', '1010'],\n",
    "    \n",
    "    'Strip District': ['1016', '1017', '49611', '1059', '1060'],\n",
    "\n",
    "    'East Liberty' : ['1026', '1027', '1029', '1024', '49391', '49371', '1064'],\n",
    "\n",
    "    'Lawrenceville' : ['1061', '49581', '1019', '1020', '49501', '49951', '49561', '1018'],\n",
    "\n",
    "    'North Shore' : ['49941', '49921', '1012', '1013'],\n",
    "\n",
    "    'Central Northside' : ['1014', '1015', '49881'],\n",
    "\n",
    "    'Southside Flats' : ['1074', '1049', '1048', '1047', '1046', '1045', '1084'],\n",
    "\n",
    "    'Oakland' : ['1038', '1044', '1039', '1091', '1093', '1041', '1095', '1036', '1037', '1099', \n",
    "                        '1040', '1097', '1035', '1094', '49271'],\n",
    "    \n",
    "    'Squirrel Hill' : ['49251', '49261', '1068', '1069', '1070'],\n",
    "    \n",
    "    'Shadyside': ['1034', '1033', '1032', '1031'] \n",
    "\n",
    "}"
   ],
   "outputs": [],
   "metadata": {}
  },
  {
   "cell_type": "code",
   "execution_count": 139,
   "source": [
    "station_list = list(station_dict.keys())\n",
    "station_list.append('Not a station in a defined neighborhood')"
   ],
   "outputs": [],
   "metadata": {}
  },
  {
   "cell_type": "code",
   "execution_count": 141,
   "source": [
    "daily_dict = {}\n",
    "for day, val in ordered_departures.items():\n",
    "    neighborhood_dict = {}\n",
    "    for key, val in val.items():       \n",
    "        for i in station_list:\n",
    "            if i not in neighborhood_dict.keys():\n",
    "                neighborhood_dict[i] = [val[i]]\n",
    "            else:\n",
    "                neighborhood_dict[i] += [val[i]]\n",
    "    daily_dict[day] = neighborhood_dict\n"
   ],
   "outputs": [],
   "metadata": {}
  },
  {
   "cell_type": "code",
   "execution_count": 142,
   "source": [
    "print(daily_dict.keys())"
   ],
   "outputs": [
    {
     "output_type": "stream",
     "name": "stdout",
     "text": [
      "dict_keys([0, 1, 2, 3, 4, 5, 6])\n"
     ]
    }
   ],
   "metadata": {}
  },
  {
   "cell_type": "code",
   "execution_count": 143,
   "source": [
    "print(daily_dict[6])"
   ],
   "outputs": [
    {
     "output_type": "stream",
     "name": "stdout",
     "text": [
      "{'Downtown': [6, 2, 4, 1, 0, 1, 0, 2, 5, 8, 14, 21, 24, 26, 16, 17, 32, 51, 13, 11, 28, 13, 1, 0], 'Strip District': [0, 0, 1, 0, 0, 0, 0, 0, 0, 3, 1, 4, 9, 9, 4, 13, 4, 7, 2, 0, 4, 0, 0, 0], 'East Liberty': [4, 4, 2, 2, 4, 1, 8, 5, 17, 22, 16, 27, 24, 28, 26, 27, 30, 21, 10, 14, 9, 12, 4, 2], 'Lawrenceville': [2, 2, 1, 0, 1, 1, 0, 0, 5, 8, 2, 5, 2, 7, 9, 5, 5, 6, 0, 4, 0, 0, 0, 1], 'North Shore': [2, 1, 2, 0, 0, 0, 2, 0, 0, 2, 5, 2, 1, 5, 1, 9, 2, 1, 1, 4, 0, 3, 0, 1], 'Central Northside': [0, 0, 0, 0, 0, 0, 0, 0, 0, 0, 2, 0, 1, 1, 1, 2, 0, 4, 0, 0, 0, 0, 1, 0], 'Southside Flats': [15, 12, 11, 0, 1, 0, 0, 2, 4, 2, 12, 23, 26, 29, 28, 25, 27, 12, 16, 10, 8, 4, 9, 9], 'Oakland': [134, 107, 55, 36, 13, 9, 25, 25, 52, 119, 192, 295, 354, 468, 503, 512, 507, 544, 417, 349, 342, 188, 123, 110], 'Squirrel Hill': [5, 0, 0, 0, 0, 0, 1, 1, 1, 3, 6, 16, 27, 29, 36, 35, 31, 25, 28, 20, 9, 4, 3, 4], 'Shadyside': [18, 8, 8, 4, 4, 3, 10, 6, 19, 36, 39, 64, 56, 50, 81, 56, 45, 54, 42, 27, 19, 16, 13, 14], 'Not a station in a defined neighborhood': [28, 26, 17, 3, 2, 9, 13, 19, 30, 71, 73, 93, 115, 120, 97, 98, 88, 89, 73, 82, 47, 41, 22, 24]}\n"
     ]
    }
   ],
   "metadata": {}
  },
  {
   "cell_type": "code",
   "execution_count": 144,
   "source": [
    "import matplotlib.pyplot as plt\n",
    "from weekday_analytics.weekday import dayint_to_daystr\n",
    "\n",
    "\n"
   ],
   "outputs": [],
   "metadata": {}
  },
  {
   "cell_type": "code",
   "execution_count": 145,
   "source": [
    "def plot_hours_of_day(ax, day_of_wk, daily_dict):\n",
    "    \n",
    "\n",
    "    x = list(range(0, 24))\n",
    "    \n",
    "    for key, val in daily_dict.items():\n",
    "        ax[day_of_wk].title.set_text((dayint_to_daystr(day_of_wk)))\n",
    "        \n",
    "        ax[day_of_wk].plot(x, val)\n",
    "        #ax.plot(x, val)"
   ],
   "outputs": [],
   "metadata": {}
  },
  {
   "cell_type": "code",
   "execution_count": 146,
   "source": [
    "fig, axs = plt.subplots(1, 7, figsize=(15,2.5), sharey = True)\n",
    "#note that at some point here arrivals are flipped with departures\n",
    "for key, val in daily_dict.items():\n",
    "    plot_hours_of_day(axs, key, val)"
   ],
   "outputs": [
    {
     "output_type": "display_data",
     "data": {
      "image/png": "[encoded data removed]",
      "text/plain": [
       "<Figure size 1080x180 with 7 Axes>"
      ]
     },
     "metadata": {
      "needs_background": "light"
     }
    }
   ],
   "metadata": {}
  },
  {
   "cell_type": "markdown",
   "source": [],
   "metadata": {}
  },
  {
   "cell_type": "code",
   "execution_count": 79,
   "source": [
    "plt.show()"
   ],
   "outputs": [],
   "metadata": {}
  },
  {
   "cell_type": "code",
   "execution_count": null,
   "source": [
    "\n",
    "\n",
    "def plot_neighborhood(neightborhood_tuple):\n",
    "    #plot just one neighborhood\n",
    "    arrivals, departures = neightborhood_tuple\n",
    "\n",
    "    ordered_arrivals = order_nested_dict(arrivals)\n",
    "    ordered_departures = order_nested_dict(departures)\n",
    "\n",
    "    for key, val in ordered_arrivals.items():\n",
    "        d\n",
    "\n",
    "\n",
    "\n",
    "    "
   ],
   "outputs": [],
   "metadata": {}
  },
  {
   "cell_type": "code",
   "execution_count": null,
   "source": [
    "def plot_"
   ],
   "outputs": [],
   "metadata": {}
  },
  {
   "cell_type": "code",
   "execution_count": null,
   "source": [
    "plot_neighborhood(oakland)"
   ],
   "outputs": [],
   "metadata": {}
  }
 ],
 "metadata": {
  "kernelspec": {
   "name": "python3",
   "display_name": "Python 3.8.8 64-bit ('base': conda)"
  },
  "language_info": {
   "codemirror_mode": {
    "name": "ipython",
    "version": 3
   },
   "file_extension": ".py",
   "mimetype": "text/x-python",
   "name": "python",
   "nbconvert_exporter": "python",
   "pygments_lexer": "ipython3",
   "version": "3.8.8"
  },
  "interpreter": {
   "hash": "a4aab969673adf21db0441d574ea3b97bef840fe2e2d7de64b14c408b24a9b14"
  }
 },
 "nbformat": 4,
 "nbformat_minor": 5
}